{
 "cells": [
  {
   "cell_type": "markdown",
   "id": "b1b1324b",
   "metadata": {},
   "source": [
    "### Week 2 Mini-Project\n",
    "“Smart Particle Predictor”\n",
    "Export particle system attributes (emitter size, velocity, lifetime) from Houdini.\n",
    "Train a regression model (Scikit-learn) to predict total particle count or average lifespan.\n",
    "Import model into Houdini and build a Python SOP that predicts and visualizes outcomes dynamically.\n",
    "\n",
    "By the end of Week 2, students will:\n",
    "Know the major Python data libraries for ML.\n",
    "Understand basic ML algorithms and how to apply them to creative problems.\n",
    "Have a working Houdini ML integration pipeline: extract → train → predict → ingest."
   ]
  }
 ],
 "metadata": {
  "language_info": {
   "name": "python"
  }
 },
 "nbformat": 4,
 "nbformat_minor": 5
}
