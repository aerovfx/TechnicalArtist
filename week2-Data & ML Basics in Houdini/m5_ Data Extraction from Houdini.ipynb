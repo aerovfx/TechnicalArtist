{
 "cells": [
  {
   "cell_type": "markdown",
   "id": "0c8393e8",
   "metadata": {},
   "source": [
    "### Module 5: Data Extraction from Houdini\n",
    "Why Extraction Matters\n",
    "Houdini data (geometry, attributes, simulation states) must be transformed into ML-friendly formats\n",
    "Techniques\n",
    "Exporting point clouds, curves, attribute tables into CSV/JSON\n",
    "Extracting motion data (transform matrices, velocity vectors)\n",
    "Export simulation caches as NumPy arrays for ML\n",
    "Hands-on\n",
    "Extract geometry attributes (P, N, Cd) from a point cloud and save as dataset\n",
    "Use dataset for clustering in Scikit-learn\n"
   ]
  }
 ],
 "metadata": {
  "language_info": {
   "name": "python"
  }
 },
 "nbformat": 4,
 "nbformat_minor": 5
}
