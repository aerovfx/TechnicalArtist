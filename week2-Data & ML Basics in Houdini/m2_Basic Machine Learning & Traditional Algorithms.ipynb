{
 "cells": [
  {
   "cell_type": "markdown",
   "id": "40aa7b82",
   "metadata": {},
   "source": [
    "### Module 2: Basic Machine Learning & Traditional Algorithms\n",
    "(before deep learning, a solid grounding in core ML)\n",
    "Supervised vs Unsupervised Learning\n",
    "Examples: training a classifier to identify asset types vs clustering motion data\n",
    "Regression & Classification\n",
    "Linear Regression → predict particle spread from emitter params\n",
    "Logistic Regression → binary classification of animation states\n",
    "Clustering & Dimensionality Reduction\n",
    "K-means for grouping meshes/textures\n",
    "PCA for reducing animation motion capture data\n",
    "Evaluation Metrics\n",
    "Accuracy, precision, recall, F1-score\n",
    "Real example: predicting whether a particle system will crash GPU\n"
   ]
  }
 ],
 "metadata": {
  "language_info": {
   "name": "python"
  }
 },
 "nbformat": 4,
 "nbformat_minor": 5
}
