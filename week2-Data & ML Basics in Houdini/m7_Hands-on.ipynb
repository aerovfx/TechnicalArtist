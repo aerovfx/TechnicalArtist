{
 "cells": [
  {
   "cell_type": "markdown",
   "id": "d1862a7b",
   "metadata": {},
   "source": [
    "### Exercises & Hands-On Labs\n",
    "Exercise 1: Train a regression model with Scikit-learn that predicts simulation duration from emitter parameters. Import the trained model into Houdini to visualize results.\n",
    "Exercise 2: Extract geometry attributes from Houdini, cluster them with K-means, and re-import cluster labels as new point attributes.\n",
    "Exercise 3: Build a pipeline that:\n",
    "Exports a point cloud from Houdini → trains ML model → imports predictions back into Houdini.\n"
   ]
  }
 ],
 "metadata": {
  "language_info": {
   "name": "python"
  }
 },
 "nbformat": 4,
 "nbformat_minor": 5
}
