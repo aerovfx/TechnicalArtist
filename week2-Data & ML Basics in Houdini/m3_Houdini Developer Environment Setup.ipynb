{
 "cells": [
  {
   "cell_type": "markdown",
   "id": "b98e14a0",
   "metadata": {},
   "source": [
    "### Module 3: Houdini Developer Environment Setup\n",
    "Python in Houdini\n",
    "Where to write: Python SOPs, shelf tools, HDAs\n",
    "Linking external Python libraries (Pandas, Scikit-learn) inside Houdini\n",
    "Setting up virtual environments for Houdini → making sure Numpy/PyTorch work\n",
    "Debugging & Development Workflow\n",
    "Houdini console logging\n",
    "Using an external IDE (PyCharm, VSCode) linked to Houdini session\n",
    "Git integration for HDAs\n",
    "\n"
   ]
  }
 ],
 "metadata": {
  "language_info": {
   "name": "python"
  }
 },
 "nbformat": 4,
 "nbformat_minor": 5
}
