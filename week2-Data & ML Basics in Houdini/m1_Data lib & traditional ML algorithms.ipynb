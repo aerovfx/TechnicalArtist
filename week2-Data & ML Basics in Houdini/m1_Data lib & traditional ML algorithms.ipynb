{
 "cells": [
  {
   "cell_type": "markdown",
   "id": "586b190b",
   "metadata": {},
   "source": [
    "### Module 1: Data Libraries for Machine Learning\n",
    "Pandas\n",
    "DataFrames for structured data (asset metadata, simulation logs, animation curves)\n",
    "Cleaning & preprocessing datasets\n",
    "Exporting/importing CSV, JSON for Houdini & Unity pipelines\n",
    "Scikit-learn\n",
    "Traditional ML algorithms (classification, regression, clustering)\n",
    "Use cases in VFX/game workflows: predicting motion curves, clustering materials, organizing assets\n",
    "Matplotlib & Seaborn\n",
    "Visualization of datasets (heatmaps for UV distribution, animation curve analysis)\n",
    "2D plots for debugging procedural rules\n",
    "PyTorch/TensorFlow (overview)\n",
    "Why deep learning frameworks matter in later weeks\n",
    "Connection to JAX from Week 1\n"
   ]
  }
 ],
 "metadata": {
  "language_info": {
   "name": "python"
  }
 },
 "nbformat": 4,
 "nbformat_minor": 5
}
