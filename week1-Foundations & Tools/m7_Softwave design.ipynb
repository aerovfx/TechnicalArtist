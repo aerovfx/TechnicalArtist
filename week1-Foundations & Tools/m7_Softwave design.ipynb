{
 "cells": [
  {
   "cell_type": "markdown",
   "id": "35700f83",
   "metadata": {},
   "source": [
    "### Module 7: Software Design for Technical Artists\n",
    "Design Patterns\n",
    "Factory pattern (asset loaders)\n",
    "Observer pattern (event-driven animation triggers)\n",
    "Singleton pattern (pipeline managers in Houdini/Unity)\n",
    "SOLID Principles (translated for TA pipelines)\n",
    "Single Responsibility → Each tool solves one pipeline step\n",
    "Open/Closed → Extend Houdini HDA with extra parameters without breaking old setups\n",
    "Liskov Substitution → Modular Python tools should swap easily in pipelines\n",
    "Interface Segregation → Unity ML modules don’t force unused APIs\n",
    "Dependency Inversion → High-level VFX pipeline doesn’t depend on low-level file parsers"
   ]
  }
 ],
 "metadata": {
  "language_info": {
   "name": "python"
  }
 },
 "nbformat": 4,
 "nbformat_minor": 5
}
