{
 "cells": [
  {
   "cell_type": "markdown",
   "id": "999d33ac",
   "metadata": {},
   "source": [
    "### Course Outline – Week 1\n",
    "Foundations for Technical Artists: Tools, Programming, and Core Principles\n",
    "\n",
    "- **Module 1: Tools & Workflow Setup**\n",
    "    - Operating Systems (OS) Overview\n",
    "        - Mac vs Windows vs Linux for AI + Creative Work\n",
    "    - GPU/CPU trade-offs\n",
    "        - Important for Houdini simulations, Unity ML, and AI training\n",
    "    - Installing Python environments\n",
    "        - Conda, venv, or system Python\n",
    "    - GPU drivers, CUDA, and Apple Metal for ML acceleration\n",
    "    - Websites & Resources\n",
    "        - GitHub, HuggingFace, PapersWithCode (ML & AI models)\n",
    "        - Kaggle (datasets, competitions, notebooks)\n",
    "        - SideFX Labs (Houdini procedural tools)\n",
    "        - Unity ML-Agents Toolkit (reinforcement learning in games)\n",
    "        - Technical artist communities (Polycount, ArtStation, SideFX forums)\n"
   ]
  }
 ],
 "metadata": {
  "language_info": {
   "name": "python"
  }
 },
 "nbformat": 4,
 "nbformat_minor": 5
}
