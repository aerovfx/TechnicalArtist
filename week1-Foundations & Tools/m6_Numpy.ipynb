{
 "cells": [
  {
   "cell_type": "markdown",
   "id": "39fbc4f2",
   "metadata": {},
   "source": [
    "### Module 6: Numpy Refresher + JAX Overview\n",
    "Numpy\n",
    "Arrays, vectorization, broadcasting\n",
    "Linear algebra for transformations (rotation matrices, scaling, translations)\n",
    "Example: Transform a point cloud of a 3D mesh\n",
    "JAX (intro)\n",
    "Why JAX is powerful for AI and simulation (autodiff + GPU acceleration)\n",
    "Differentiable programming concepts (applied to procedural animation & physics)\n",
    "Hands-on: Optimize a particle system with JAX\n",
    "\n"
   ]
  }
 ],
 "metadata": {
  "language_info": {
   "name": "python"
  }
 },
 "nbformat": 4,
 "nbformat_minor": 5
}
