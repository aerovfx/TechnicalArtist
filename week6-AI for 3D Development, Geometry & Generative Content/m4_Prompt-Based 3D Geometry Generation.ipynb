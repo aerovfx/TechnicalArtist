{
 "cells": [
  {
   "cell_type": "markdown",
   "id": "56ac1c49",
   "metadata": {},
   "source": [
    "### Module 4: Prompt-Based 3D Geometry Generation\n",
    "Concept\n",
    "Text-to-3D using generative models (DreamFusion, Shap-E, 3D diffusion)\n",
    "Latent space → NeRF / SDF → mesh conversion\n",
    "Applications for TA\n",
    "Quickly prototype props/environments from text prompts\n",
    "Generate background filler assets for games/cinematics\n",
    "Hands-on\n",
    "Use Shap-E or OpenAI point cloud generator to create a 3D object from prompt\n",
    "Import into Houdini, apply procedural refinements\n"
   ]
  }
 ],
 "metadata": {
  "language_info": {
   "name": "python"
  }
 },
 "nbformat": 4,
 "nbformat_minor": 5
}
