{
 "cells": [
  {
   "cell_type": "markdown",
   "id": "cceffebb",
   "metadata": {},
   "source": [
    "### Module 3: Geometry & Mesh Algorithms\n",
    "Core Techniques\n",
    "Poisson surface reconstruction\n",
    "Delaunay triangulation, marching cubes\n",
    "Mesh simplification, smoothing\n",
    "Applications\n",
    "Clean scanned assets\n",
    "Procedural remeshing for AI-generated models\n",
    "Hands-on\n",
    "Reconstruct a mesh from depth-based point cloud in Houdini\n",
    "Apply smoothing & retopology\n"
   ]
  }
 ],
 "metadata": {
  "language_info": {
   "name": "python"
  }
 },
 "nbformat": 4,
 "nbformat_minor": 5
}
