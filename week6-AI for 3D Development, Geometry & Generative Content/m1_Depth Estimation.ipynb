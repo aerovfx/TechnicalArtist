{
 "cells": [
  {
   "cell_type": "markdown",
   "id": "38ca9eb4",
   "metadata": {},
   "source": [
    "### Module 1: Depth Estimation\n",
    "Concepts\n",
    "From 2D image → depth map (monocular & stereo methods)\n",
    "Neural networks for depth prediction (MiDaS, DPT, etc.)\n",
    "Applications for TA\n",
    "Convert flat renders into parallax layers\n",
    "Generate camera projections for matte painting / VFX\n",
    "Quick previz of 3D layouts from concept art\n",
    "Hands-on\n",
    "Use MiDaS to extract depth map from an image\n",
    "Import depth map into Houdini → generate displaced geometry\n"
   ]
  }
 ],
 "metadata": {
  "language_info": {
   "name": "python"
  }
 },
 "nbformat": 4,
 "nbformat_minor": 5
}
