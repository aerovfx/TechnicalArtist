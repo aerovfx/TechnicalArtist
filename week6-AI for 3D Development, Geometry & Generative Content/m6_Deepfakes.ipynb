{
 "cells": [
  {
   "cell_type": "markdown",
   "id": "10366a17",
   "metadata": {},
   "source": [
    "### Module 6: Deepfakes\n",
    "Concepts\n",
    "Face-swapping using GANs and autoencoders\n",
    "Voice & facial reenactment\n",
    "Applications in Game/VFX\n",
    "Rapid previs (casting actor faces on doubles)\n",
    "AI-assisted lip sync for NPCs\n",
    "Ethics & Responsibility\n",
    "Legal/ethical use cases in professional workflows\n",
    "Hands-on\n",
    "Run a pretrained DeepFaceLab or FaceSwap model\n",
    "Apply to a test animation shot for lip-sync\n"
   ]
  }
 ],
 "metadata": {
  "language_info": {
   "name": "python"
  }
 },
 "nbformat": 4,
 "nbformat_minor": 5
}
