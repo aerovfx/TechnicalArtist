{
 "cells": [
  {
   "cell_type": "markdown",
   "id": "3c416536",
   "metadata": {},
   "source": [
    "### Exercises & Labs\n",
    "Generate a set of seamless textures (stone, metal, wood) with Stable Diffusion + ControlNet.\n",
    "Build an HDA that takes a text prompt → outputs a textured prop mesh using diffusion + procedural remeshing.\n",
    "Create HDRI sky domes with diffusion models, apply to lookdev scene in Houdini Solaris.\n",
    "Train a ControlNet for asset stylization (e.g., realistic → toon style).\n",
    "Implement a prompt-based material generator that outputs PBR maps."
   ]
  }
 ],
 "metadata": {
  "language_info": {
   "name": "python"
  }
 },
 "nbformat": 4,
 "nbformat_minor": 5
}
