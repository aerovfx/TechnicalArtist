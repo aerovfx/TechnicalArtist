{
 "cells": [
  {
   "cell_type": "markdown",
   "id": "2fc3d125",
   "metadata": {},
   "source": [
    "### Module 4: Hands-On\n",
    "Training ControlNet for Asset Stylization\n",
    "Fine-tune ControlNet trên custom dataset (ví dụ: stylized props, sci-fi textures).\n",
    "Task: “Turn any input texture into painterly or sci-fi tech style.”\n",
    "Deploy trong Houdini HDA hoặc Unity Editor Tool.\n",
    "Prompt-Driven Procedural Asset Kitbash\n",
    "Prompt: “Generate 5 ruined building variations with moss-covered textures.”\n",
    "Pipeline:\n",
    "Text prompt → Stable Diffusion image.\n",
    "Depth/normal extraction → Houdini procedural geometry.\n",
    "Kitbash assembly in Houdini → export to Unity.\n"
   ]
  }
 ],
 "metadata": {
  "language_info": {
   "name": "python"
  }
 },
 "nbformat": 4,
 "nbformat_minor": 5
}
