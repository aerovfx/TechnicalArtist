{
 "cells": [
  {
   "cell_type": "markdown",
   "id": "43f2c898",
   "metadata": {},
   "source": [
    "### Week 11 Mini-Project\n",
    "🎯 “Generative Asset & Lookdev AI Tool”\n",
    "Choose either:\n",
    "AI Texture Library Generator – Train/fine-tune diffusion model to output tagged, tileable texture sets for Houdini/Unity.\n",
    "Generative Lighting Tool – Build pipeline: text prompt → HDRI lighting setup → render preview in Houdini Solaris/Unity.\n",
    "Deliverables:\n",
    "Tool/plugin (HDA or Unity Editor script).\n",
    "Report: prompts, datasets, results, pipeline diagram.\n",
    "Demo video (prompt → asset → integration).\n",
    "\n",
    "👉 By the end of Week 11, học viên sẽ:\n",
    "Hiểu và ứng dụng Stable Diffusion, ControlNet, 3D diffusion cho TA workflows.\n",
    "Tạo procedural textures, materials, HDRIs, and geometry từ prompts.\n",
    "Xây dựng pipeline AI-driven asset & lookdev generation trong Houdini/Unity."
   ]
  }
 ],
 "metadata": {
  "language_info": {
   "name": "python"
  }
 },
 "nbformat": 4,
 "nbformat_minor": 5
}
