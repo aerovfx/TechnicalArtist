{
 "cells": [
  {
   "cell_type": "markdown",
   "id": "c32cae3a",
   "metadata": {},
   "source": [
    "### Module 2: Procedural Asset Generation via Prompts\n",
    "Concepts\n",
    "Prompt engineering cho artists.\n",
    "Negative prompts để kiểm soát output.\n",
    "Multi-modal prompts (text + sketches + depth maps).\n",
    "Applications\n",
    "Textures: seamless tiling, style variations.\n",
    "Geometry: 3D kitbash từ diffusion models.\n",
    "HDRI & Lighting: AI-generated dome lighting.\n",
    "Materials: prompt-based PBR maps (albedo, roughness, normal)."
   ]
  }
 ],
 "metadata": {
  "language_info": {
   "name": "python"
  }
 },
 "nbformat": 4,
 "nbformat_minor": 5
}
