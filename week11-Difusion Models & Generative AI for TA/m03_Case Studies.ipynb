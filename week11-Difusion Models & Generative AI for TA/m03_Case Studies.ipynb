{
 "cells": [
  {
   "cell_type": "markdown",
   "id": "faf5c290",
   "metadata": {},
   "source": [
    "### Module 3: Case Studies\n",
    "AI Texture Library Generator\n",
    "Generate toàn bộ PBR texture sets (albedo/roughness/normal).\n",
    "Auto-classify + tag bằng clustering.\n",
    "Integration: import thẳng vào Substance Painter/Designer hoặc Houdini MaterialX.\n",
    "Generative Lighting for Lookdev\n",
    "Diffusion models tạo HDRI sky domes.\n",
    "ControlNet từ depth maps → lighting variations.\n",
    "Integration: Houdini Solaris/Unity HDRP auto-light setups.\n"
   ]
  }
 ],
 "metadata": {
  "language_info": {
   "name": "python"
  }
 },
 "nbformat": 4,
 "nbformat_minor": 5
}
