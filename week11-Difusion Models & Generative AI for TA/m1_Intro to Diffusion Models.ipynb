{
 "cells": [
  {
   "cell_type": "markdown",
   "id": "8c07b552",
   "metadata": {},
   "source": [
    "### Module 1: Intro to Diffusion Models\n",
    "Concepts\n",
    "Cơ chế cơ bản: từ noise → image → controlled outputs.\n",
    "So sánh Diffusion với GANs và VAEs.\n",
    "Stable Diffusion: open-source, custom pipelines.\n",
    "ControlNet: condition-based diffusion (pose, depth, edges, scribbles).\n",
    "3D Diffusion: từ text/image → mesh/point cloud/NeRF.\n",
    "Applications for TA\n",
    "AI-assisted concept art generation.\n",
    "Procedural texture generation & stylization.\n",
    "Prototype 3D assets từ text prompt.\n"
   ]
  }
 ],
 "metadata": {
  "language_info": {
   "name": "python"
  }
 },
 "nbformat": 4,
 "nbformat_minor": 5
}
