{
 "cells": [
  {
   "cell_type": "markdown",
   "id": "e6b4ac3d",
   "metadata": {},
   "source": [
    "### Module 3: Custom HDA for Data I/O\n",
    "Building a Data-Driven HDA\n",
    "Input: JSON/CSV/Database query\n",
    "Processing: Convert external data to Houdini geometry attributes\n",
    "Output: Save geometry attributes as structured dataset for ML\n",
    "Use Cases\n",
    "HDA for dataset creation (e.g., exporting particles, assets, animations to JSON)\n",
    "HDA for ML model predictions (import predicted curves, cluster labels, etc.)"
   ]
  }
 ],
 "metadata": {
  "language_info": {
   "name": "python"
  }
 },
 "nbformat": 4,
 "nbformat_minor": 5
}
