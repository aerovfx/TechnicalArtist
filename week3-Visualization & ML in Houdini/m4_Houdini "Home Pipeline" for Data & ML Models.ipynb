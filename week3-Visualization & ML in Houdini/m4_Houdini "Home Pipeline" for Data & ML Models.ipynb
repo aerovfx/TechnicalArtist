{
 "cells": [
  {
   "cell_type": "markdown",
   "id": "36ade976",
   "metadata": {},
   "source": [
    "### Module 4: Houdini \"Home Pipeline\" for Data & ML Models\n",
    "Concept\n",
    "Centralized folder structure: data/, models/, outputs/\n",
    "Consistent naming for datasets & model checkpoints\n",
    "Versioning via Git + Git LFS\n",
    "Implementation\n",
    "HDA node that automatically looks up datasets/models in project folder\n",
    "Config file for global settings (e.g., ML model path, DB connection string)\n",
    "Hands-on\n",
    "Create a simple Houdini ML Manager HDA that imports a trained model and dataset"
   ]
  }
 ],
 "metadata": {
  "language_info": {
   "name": "python"
  }
 },
 "nbformat": 4,
 "nbformat_minor": 5
}
