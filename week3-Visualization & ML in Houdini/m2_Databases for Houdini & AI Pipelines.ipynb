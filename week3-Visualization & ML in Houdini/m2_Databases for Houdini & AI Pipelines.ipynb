{
 "cells": [
  {
   "cell_type": "markdown",
   "id": "ddaa650f",
   "metadata": {},
   "source": [
    "### Module 2: Databases for Houdini & AI Pipelines\n",
    "Why Databases\n",
    "Large-scale projects require structured storage for assets, simulations, and ML data\n",
    "SQLite / PostgreSQL basics\n",
    "Tables, queries, joins\n",
    "Storing geometry metadata, material libraries, simulation logs\n",
    "Houdini integration\n",
    "Query a database to drive procedural generation (e.g., pull building dimensions from DB)\n",
    "Store ML model predictions in DB for later retrieval\n",
    "Hands-on\n",
    "Store a set of geometry attributes (P, N, Cd) in SQLite\n",
    "Reload attributes into Houdini via Python SOP\n"
   ]
  }
 ],
 "metadata": {
  "language_info": {
   "name": "python"
  }
 },
 "nbformat": 4,
 "nbformat_minor": 5
}
