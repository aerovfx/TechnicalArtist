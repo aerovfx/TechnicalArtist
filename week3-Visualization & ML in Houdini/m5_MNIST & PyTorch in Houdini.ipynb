{
 "cells": [
  {
   "cell_type": "markdown",
   "id": "6ab2fe7e",
   "metadata": {},
   "source": [
    "### Module 5: MNIST & PyTorch in Houdini\n",
    "Why MNIST?\n",
    "Simple, well-known dataset → easy entry to PyTorch inside Houdini\n",
    "PyTorch basics\n",
    "Tensors, datasets, dataloaders\n",
    "Simple neural network classifier\n",
    "Integration with Houdini\n",
    "Train MNIST digit classifier in external script\n",
    "Load trained model inside Houdini with PyTorch\n",
    "Use digit predictions to drive procedural effects (e.g., generate geometry based on predicted number)\n"
   ]
  }
 ],
 "metadata": {
  "language_info": {
   "name": "python"
  }
 },
 "nbformat": 4,
 "nbformat_minor": 5
}
