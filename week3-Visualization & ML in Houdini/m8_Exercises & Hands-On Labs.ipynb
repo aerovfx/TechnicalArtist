{
 "cells": [
  {
   "cell_type": "markdown",
   "id": "bc56b61a",
   "metadata": {},
   "source": [
    "### Exercises & Hands-On Labs\n",
    "Visualize point cloud velocity distribution from Houdini in Matplotlib.\n",
    "Save geometry attributes into SQLite, re-import into Houdini, and use them as procedural drivers.\n",
    "Build a Data I/O HDA that can read/write JSON datasets.\n",
    "Run a PyTorch MNIST model inside Houdini, driving geometry from digit predictions.\n",
    "Implement an AI QC tool that flags geometry with invalid normals."
   ]
  }
 ],
 "metadata": {
  "language_info": {
   "name": "python"
  }
 },
 "nbformat": 4,
 "nbformat_minor": 5
}
