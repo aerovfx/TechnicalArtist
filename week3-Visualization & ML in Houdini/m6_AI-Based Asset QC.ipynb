{
 "cells": [
  {
   "cell_type": "markdown",
   "id": "f24b90cd",
   "metadata": {},
   "source": [
    "### Module 6: AI-Based Asset QC (Quality Control)\n",
    "Problem\n",
    "Large VFX/game productions need automated asset validation (scale, topology, normals, naming)\n",
    "ML Approach\n",
    "Train a classifier/regressor on “good vs bad” assets\n",
    "Use PyTorch to predict asset quality inside Houdini pipeline\n",
    "Implementation\n",
    "Houdini HDA → automatically flags geometry with errors (non-manifold, flipped normals, wrong naming convention)\n",
    "Assigns quality score (0–1)\n",
    "\n"
   ]
  }
 ],
 "metadata": {
  "language_info": {
   "name": "python"
  }
 },
 "nbformat": 4,
 "nbformat_minor": 5
}
