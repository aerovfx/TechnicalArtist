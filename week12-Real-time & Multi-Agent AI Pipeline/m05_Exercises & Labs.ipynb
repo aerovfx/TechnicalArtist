{
 "cells": [
  {
   "cell_type": "markdown",
   "id": "9da10a51",
   "metadata": {},
   "source": [
    "### Exercises & Labs\n",
    "Build a Houdini HDA where crowd agents communicate via messages (flocking, avoidance).\n",
    "Train Unity ML-Agents with RL for cooperative tasks.\n",
    "Integrate an LLM-based dialogue system into Unity NPC prefab.\n",
    "Deploy an RL policy using Ray on the cloud, test scalability.\n",
    "Create a small cinematic previs scene with AI-driven actors (movement + dialogue)."
   ]
  }
 ],
 "metadata": {
  "language_info": {
   "name": "python"
  }
 },
 "nbformat": 4,
 "nbformat_minor": 5
}
