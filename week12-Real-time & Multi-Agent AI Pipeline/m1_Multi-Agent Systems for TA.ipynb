{
 "cells": [
  {
   "cell_type": "markdown",
   "id": "b9590bac",
   "metadata": {},
   "source": [
    "### Module 1: Multi-Agent Systems for TA\n",
    "Concepts\n",
    "Agent-based modeling: cá thể độc lập + rule-based → emergent behavior.\n",
    "Agent-to-agent communication: message passing, state sharing.\n",
    "Integration of ML agents with procedural sim (particles/crowds).\n",
    "Applications for TA\n",
    "Smart crowd simulation: agents adapt to environment + each other.\n",
    "Procedural previs: camera blocking, staging with autonomous agents.\n",
    "NPC groups in Unity/Unreal: emergent gameplay behavior.\n"
   ]
  }
 ],
 "metadata": {
  "language_info": {
   "name": "python"
  }
 },
 "nbformat": 4,
 "nbformat_minor": 5
}
