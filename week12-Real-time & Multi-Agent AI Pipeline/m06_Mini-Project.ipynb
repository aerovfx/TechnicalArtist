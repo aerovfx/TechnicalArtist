{
 "cells": [
  {
   "cell_type": "markdown",
   "id": "8b992e18",
   "metadata": {},
   "source": [
    "### Week 12 Mini-Project\n",
    "🎯 “Real-Time Multi-Agent AI Pipeline”\n",
    "Pick one challenge:\n",
    "Smart Crowd System – RL agents + clustering → simulate intelligent groups in Houdini/Unity.\n",
    "Cinematic Previs AI – Multi-agent system where RL controls blocking and LLM powers dialogue in Unreal/Unity.\n",
    "Deliverables:\n",
    "Working demo (video + pipeline integration).\n",
    "Technical report (pipeline, models, challenges, future improvements).\n",
    "Optional: cloud-deployed multi-agent training (Ray/Kubernetes).\n",
    "\n",
    "👉 By the end of Week 12, học viên sẽ:\n",
    "Hiểu và triển khai multi-agent systems cho TA workflows.\n",
    "Kết hợp RL + LLM cho NPCs thông minh cả hành động lẫn lời nói.\n",
    "Scale agent pipelines lên cloud deployment.\n",
    "Ứng dụng vào real-time previs, crowds, cinematic tools trong Unity/Unreal/Houdini."
   ]
  }
 ],
 "metadata": {
  "language_info": {
   "name": "python"
  }
 },
 "nbformat": 4,
 "nbformat_minor": 5
}
