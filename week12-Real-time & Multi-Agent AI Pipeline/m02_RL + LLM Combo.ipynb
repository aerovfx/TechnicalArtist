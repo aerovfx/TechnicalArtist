{
 "cells": [
  {
   "cell_type": "markdown",
   "id": "6d6a9767",
   "metadata": {},
   "source": [
    "### Module 2: RL + LLM Combo\n",
    "Concepts\n",
    "Reinforcement Learning (RL): policy optimization, reward functions.\n",
    "LLM integration: decision-making + natural language for NPCs.\n",
    "Hybrid pipeline: RL for physical actions, LLM for narrative/dialogue.\n",
    "Applications\n",
    "NPCs in Unity/Unreal that think (RL) and talk (LLM).\n",
    "Adaptive agents for previs: automatic storyboarding with dialogue.\n",
    "Cinematic prototyping with AI-driven actors.\n"
   ]
  }
 ],
 "metadata": {
  "language_info": {
   "name": "python"
  }
 },
 "nbformat": 4,
 "nbformat_minor": 5
}
