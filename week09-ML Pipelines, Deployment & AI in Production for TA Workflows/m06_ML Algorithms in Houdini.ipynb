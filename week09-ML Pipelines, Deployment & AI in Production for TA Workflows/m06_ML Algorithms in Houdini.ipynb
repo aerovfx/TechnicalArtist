{
 "cells": [
  {
   "cell_type": "markdown",
   "id": "78880ada",
   "metadata": {},
   "source": [
    "### Module 6: ML Algorithms in Houdini\n",
    "Concepts\n",
    "Using ML for proceduralism inside Houdini\n",
    "SOP-level clustering & prediction\n",
    "Training ML models on sim data for reuse\n",
    "Applications\n",
    "Predict best sim parameters from dataset\n",
    "Auto-tag geometry by procedural class (rock/plant/building)\n",
    "Use clustering to group particles in POP sim\n",
    "Hands-on\n",
    "Build custom HDA that runs ML clustering inside Houdini\n",
    "Train regression model to predict sim cache size → visualize\n",
    "\n"
   ]
  }
 ],
 "metadata": {
  "language_info": {
   "name": "python"
  }
 },
 "nbformat": 4,
 "nbformat_minor": 5
}
