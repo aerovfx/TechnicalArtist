{
 "cells": [
  {
   "cell_type": "markdown",
   "id": "b02f1ced",
   "metadata": {},
   "source": [
    "### Module 5: ML Algorithms in Unity\n",
    "Concepts\n",
    "Unity ML-Agents vs custom ML integration\n",
    "TensorFlow/PyTorch model → Unity inference\n",
    "Applications\n",
    "NPC decision-making using ML\n",
    "Dynamic difficulty balancing\n",
    "Clustering NPC motion patterns\n",
    "Hands-on\n",
    "Import trained clustering model → drive Unity NPC groups\n",
    "Use regression model for AI-based animation blending\n"
   ]
  }
 ],
 "metadata": {
  "language_info": {
   "name": "python"
  }
 },
 "nbformat": 4,
 "nbformat_minor": 5
}
