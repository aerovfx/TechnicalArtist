{
 "cells": [
  {
   "cell_type": "markdown",
   "id": "587f9963",
   "metadata": {},
   "source": [
    "### Module 2: Blob Storage for ML Data\n",
    "Concepts\n",
    "Cloud data storage (Azure Blob, AWS S3, GCP buckets)\n",
    "Managing large datasets (textures, point clouds, motion capture, sims)\n",
    "Data versioning for ML pipelines\n",
    "Applications for TA\n",
    "Centralized dataset repo (Houdini sim caches, mocap FBXs)\n",
    "Serving ML models/textures to Unity builds via blob storage\n",
    "Hands-on\n",
    "Upload/download procedural dataset to Blob Storage\n",
    "Fetch textures/point cloud data inside Houdini/Unity via API\n"
   ]
  }
 ],
 "metadata": {
  "language_info": {
   "name": "python"
  }
 },
 "nbformat": 4,
 "nbformat_minor": 5
}
