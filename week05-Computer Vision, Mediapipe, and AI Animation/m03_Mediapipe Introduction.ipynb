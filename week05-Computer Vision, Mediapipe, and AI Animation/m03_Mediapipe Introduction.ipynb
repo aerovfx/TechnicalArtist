{
 "cells": [
  {
   "cell_type": "markdown",
   "id": "cdd9d98a",
   "metadata": {},
   "source": [
    "### Module 3: Mediapipe Introduction\n",
    "\n",
    "- **What is Mediapipe?**\n",
    "    - Google’s framework for real-time CV pipelines\n",
    "\n",
    "- **Prebuilt solutions:**\n",
    "    - Hand tracking\n",
    "    - Facemesh\n",
    "    - Pose estimation\n",
    "    - Object detection\n",
    "\n",
    "- **Why Mediapipe for Technical Artists?**\n",
    "    - Lightweight, real-time → perfect for prototyping motion capture and animation tools\n",
    "    - Easy integration with Houdini & Unity via Python\n",
    "\n",
    "- **Hands-on:**\n",
    "    - Install Mediapipe\n",
    "    - Run first hand/pose detection on webcam feed\n"
   ]
  }
 ],
 "metadata": {
  "language_info": {
   "name": "python"
  }
 },
 "nbformat": 4,
 "nbformat_minor": 5
}
