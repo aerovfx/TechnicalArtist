{
 "cells": [
  {
   "cell_type": "markdown",
   "id": "c3ee28b1",
   "metadata": {},
   "source": [
    "### Module 8: Animation Prediction\n",
    "\n",
    "- **Beyond Detection → Prediction**\n",
    "    - Sử dụng ML để dự đoán các khung hình tiếp theo của hoạt ảnh (anticipation, smoothing)\n",
    "\n",
    "- **Techniques**\n",
    "    - Sequence models (RNN, LSTM, Transformers cho chuyển động)\n",
    "    - Dự đoán các khung hình pose tiếp theo → giảm rung trong dữ liệu mocap\n",
    "\n",
    "- **Hands-on**\n",
    "    - Huấn luyện một mô hình LSTM nhỏ trên chuỗi pose Mediapipe\n",
    "    - Dự đoán & làm mượt các đường cong hoạt ảnh cho nhân vật Houdini\n"
   ]
  }
 ],
 "metadata": {
  "language_info": {
   "name": "python"
  }
 },
 "nbformat": 4,
 "nbformat_minor": 5
}
