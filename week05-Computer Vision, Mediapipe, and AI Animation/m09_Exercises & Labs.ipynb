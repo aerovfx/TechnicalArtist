{
 "cells": [
  {
   "cell_type": "markdown",
   "id": "a79046e1",
   "metadata": {},
   "source": [
    "### Exercises & Labs\n",
    "\n",
    "- Build a Docker container with PyTorch + Mediapipe.\n",
    "- Use OpenCV to process a Houdini render → detect silhouettes.\n",
    "- Capture Mediapipe facemesh data, export to JSON → drive blendshape rig in Houdini.\n",
    "- Extract pose landmarks from a dance video → import into Unity for animation.\n",
    "- Train a simple LSTM animation predictor to smooth Mediapipe motion data."
   ]
  }
 ],
 "metadata": {
  "language_info": {
   "name": "python"
  }
 },
 "nbformat": 4,
 "nbformat_minor": 5
}
