{
 "cells": [
  {
   "cell_type": "markdown",
   "id": "b5b5c52f",
   "metadata": {},
   "source": [
    "### Week 5 Mini-Project\n",
    "🎯 “AI Mocap for Houdini/Unity”\n",
    "\n",
    "- Capture webcam pose data with Mediapipe.\n",
    "- Export pose sequences as JSON/CSV.\n",
    "- Import into Houdini/Unity → retarget to character rig.\n",
    "- Use a prediction model (LSTM) to smooth/forecast animation curves.\n",
    "- Output final AI-driven animation preview.\n",
    "\n",
    "👉 By the end of Week 5, students will:\n",
    "- Use Docker for ML pipelines.\n",
    "- Understand computer vision basics with OpenCV.\n",
    "- Extract face/pose data with Mediapipe and import into Houdini.\n",
    "- Drive AI-based facial/body animation inside DCCs.\n",
    "- Apply prediction models for motion smoothing & anticipation."
   ]
  }
 ],
 "metadata": {
  "language_info": {
   "name": "python"
  }
 },
 "nbformat": 4,
 "nbformat_minor": 5
}
