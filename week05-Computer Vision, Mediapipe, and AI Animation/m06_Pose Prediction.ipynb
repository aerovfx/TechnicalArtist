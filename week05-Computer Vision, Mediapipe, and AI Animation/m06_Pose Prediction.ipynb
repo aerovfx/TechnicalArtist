{
 "cells": [
  {
   "cell_type": "markdown",
   "id": "cdd9d98a",
   "metadata": {},
   "source": [
    "### Module 6: Pose Prediction\n",
    "\n",
    "- **Pose Estimation Basics**\n",
    "    - 33 body landmarks (skeleton joints)\n",
    "    - Applications:\n",
    "        - Motion capture replacement\n",
    "        - Crowd simulations\n",
    "        - Animation reference\n",
    "\n",
    "- **Pose Prediction Models**\n",
    "    - Mediapipe Pose (lightweight)\n",
    "    - Alternatives:\n",
    "        - OpenPose\n",
    "        - MoveNet (for comparison)\n",
    "\n",
    "- **Hands-on**\n",
    "    - Extract pose landmarks from video\n",
    "    - Import JSON into Houdini to animate skeleton rig\n"
   ]
  }
 ],
 "metadata": {
  "language_info": {
   "name": "python"
  }
 },
 "nbformat": 4,
 "nbformat_minor": 5
}
