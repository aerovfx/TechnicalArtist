{
 "cells": [
  {
   "cell_type": "markdown",
   "id": "20d3bc5c",
   "metadata": {},
   "source": [
    "### Module 7: Houdini Node Prediction System\n",
    "\n",
    "- **Concept**\n",
    "    - AI that suggests next nodes based on current workflow (like GitHub Copilot for Houdini)\n",
    "\n",
    "- **Implementation**\n",
    "    - Train on JSON graphs of Houdini node networks\n",
    "    - Model learns patterns (e.g., scatter → copy to points → polyreduce)\n",
    "    - Python script predicts “next likely node” in current graph\n",
    "\n",
    "- **Hands-on**\n",
    "    - Extract a few Houdini node networks as JSON\n",
    "    - Train a simple ML model to predict next node\n",
    "    - Prototype a Houdini shelf tool that suggests node completion\n"
   ]
  }
 ],
 "metadata": {
  "language_info": {
   "name": "python"
  }
 },
 "nbformat": 4,
 "nbformat_minor": 5
}
