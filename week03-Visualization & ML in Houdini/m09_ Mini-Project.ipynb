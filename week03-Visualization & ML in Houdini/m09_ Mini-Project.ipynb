{
 "cells": [
  {
   "cell_type": "markdown",
   "id": "4a8eaba4",
   "metadata": {},
   "source": [
    "### Week 3 Mini-Project\n",
    "“AI-Enhanced Houdini Pipeline”\n",
    "\n",
    "- Build a custom Houdini HDA that:\n",
    "    - Exports geometry data to JSON/DB.\n",
    "    - Loads a trained PyTorch model.\n",
    "    - Performs a prediction (e.g., QC classification or asset clustering).\n",
    "    - Applies prediction results to geometry (e.g., marking bad assets red, or driving parameters procedurally).\n",
    "\n",
    "**By the end of Week 3, students will:**\n",
    "- Master data visualization & databases for VFX/game pipelines.\n",
    "- Build HDAs for ML data I/O.\n",
    "- Run PyTorch models inside Houdini.\n",
    "- Prototype AI-driven asset QC and node prediction systems."
   ]
  }
 ],
 "metadata": {
  "language_info": {
   "name": "python"
  }
 },
 "nbformat": 4,
 "nbformat_minor": 5
}
