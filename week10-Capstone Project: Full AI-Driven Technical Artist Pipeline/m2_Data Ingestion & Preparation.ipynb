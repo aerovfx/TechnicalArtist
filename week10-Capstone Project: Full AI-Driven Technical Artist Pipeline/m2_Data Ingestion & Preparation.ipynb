{
 "cells": [
  {
   "cell_type": "markdown",
   "id": "139ee592",
   "metadata": {},
   "source": [
    "### Module 2: Data Ingestion & Preparation\n",
    "Collect procedural datasets (Houdini sims, geometry, textures).\n",
    "Version and store them in Blob Storage.\n",
    "Define metadata (parameters, tags, categories).\n",
    "Exercise: Prepare a procedural dataset (e.g., particle sim cache + textures).\n"
   ]
  }
 ],
 "metadata": {
  "language_info": {
   "name": "python"
  }
 },
 "nbformat": 4,
 "nbformat_minor": 5
}
