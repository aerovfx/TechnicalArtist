{
 "cells": [
  {
   "cell_type": "markdown",
   "id": "abce7697",
   "metadata": {},
   "source": [
    "### Module 4: Model Deployment with FastAPI\n",
    "Package trained model into FastAPI service.\n",
    "Deploy locally (or to Docker if advanced).\n",
    "Connect service endpoints for Houdini & Unity queries.\n",
    "Exercise: Houdini tool → send request → get model prediction → visualize.\n"
   ]
  }
 ],
 "metadata": {
  "language_info": {
   "name": "python"
  }
 },
 "nbformat": 4,
 "nbformat_minor": 5
}
