{
 "cells": [
  {
   "cell_type": "markdown",
   "id": "3c4eb858",
   "metadata": {},
   "source": [
    "### Module 5: Integration with Houdini & Unity\n",
    "Houdini\n",
    "Build custom HDA to query FastAPI model.\n",
    "Use AI predictions to drive sim parameters / group geometry.\n",
    "Unity\n",
    "Use ML output to cluster NPCs, drive difficulty scaling, or auto-material assignment.\n",
    "Exercise: Unity scene that queries ML model for AI-driven gameplay or asset tagging.\n"
   ]
  }
 ],
 "metadata": {
  "language_info": {
   "name": "python"
  }
 },
 "nbformat": 4,
 "nbformat_minor": 5
}
