{
 "cells": [
  {
   "cell_type": "markdown",
   "id": "7860495e",
   "metadata": {},
   "source": [
    "### Module 1: Capstone Overview\n",
    "Concepts\n",
    "What is an end-to-end AI pipeline for Technical Artists?\n",
    "Integrating all components: data → training → deployment → DCC integration (Houdini, Unity).\n",
    "Best practices for production-ready AI workflows.\n",
    "Goal\n",
    "Build one cohesive pipeline that students can showcase as a portfolio project."
   ]
  }
 ],
 "metadata": {
  "language_info": {
   "name": "python"
  }
 },
 "nbformat": 4,
 "nbformat_minor": 5
}
