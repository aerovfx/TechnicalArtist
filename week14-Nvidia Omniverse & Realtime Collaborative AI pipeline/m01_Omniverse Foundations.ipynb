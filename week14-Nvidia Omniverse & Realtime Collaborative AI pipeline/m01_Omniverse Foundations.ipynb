{
 "cells": [
  {
   "cell_type": "markdown",
   "id": "07c654b1",
   "metadata": {},
   "source": [
    "### Module 1: Omniverse Foundations\n",
    "Concepts\n",
    "Omniverse as a USD-native collaboration platform.\n",
    "Nucleus server: asset sharing, live collaboration.\n",
    "Connectors for Houdini, Unreal, Unity, Blender, Maya → single USD scene.\n",
    "AI extensions inside Omniverse (Audio2Face, GANverse3D, Kaolin).\n",
    "Applications for TA\n",
    "Cross-department workflows: layout in Houdini, lookdev in Blender, animation in Maya, lighting in Unreal → all synced in real-time via USD.\n",
    "Omniverse as “AI hub” for procedural asset QC, simulation preview, and auto-tagging.\n",
    "Hands-on\n",
    "Install and configure Omniverse Nucleus server.\n",
    "Sync Houdini procedural asset → edit in Unreal → see updates live.\n",
    "Explore Omniverse Kit + Extensions (Python).\n"
   ]
  }
 ],
 "metadata": {
  "language_info": {
   "name": "python"
  }
 },
 "nbformat": 4,
 "nbformat_minor": 5
}
