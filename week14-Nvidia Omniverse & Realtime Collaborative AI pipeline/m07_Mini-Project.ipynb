{
 "cells": [
  {
   "cell_type": "markdown",
   "id": "f11833be",
   "metadata": {},
   "source": [
    "### Week 14 Mini-Project\n",
    "🎯 “Collaborative AI Production Scene in Omniverse”\n",
    "Build a cross-DCC scene pipeline using Omniverse:\n",
    "Asset created in Houdini → exported as USD.\n",
    "AI QC validates asset in Omniverse.\n",
    "Lighting/lookdev applied in Unreal or Blender.\n",
    "AI assistant bot inside Omniverse manages asset metadata.\n",
    "Final previs rendered via Omniverse Hydra delegate.\n",
    "Deliverables:\n",
    "Live demo of multi-DCC collaboration with AI assistance.\n",
    "Documentation on pipeline setup.\n",
    "Recorded demo of AI QC + AI agent integration.\n",
    "\n",
    "👉 By the end of Week 14, học viên sẽ hiểu:\n",
    "Cách Omniverse + USD kết nối mọi DCC thành studio-grade AI pipeline.\n",
    "Tích hợp AI tools (QC, texture gen, RL agents, LLM bots) trực tiếp trong Omniverse.\n",
    "Xây dựng real-time collaborative pipelines như studio lớn đang triển khai."
   ]
  }
 ],
 "metadata": {
  "language_info": {
   "name": "python"
  }
 },
 "nbformat": 4,
 "nbformat_minor": 5
}
