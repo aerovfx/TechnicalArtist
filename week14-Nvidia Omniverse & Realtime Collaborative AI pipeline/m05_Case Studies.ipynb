{
 "cells": [
  {
   "cell_type": "markdown",
   "id": "b0aea2c5",
   "metadata": {},
   "source": [
    "### Case Studies\n",
    "AI-Driven Omniverse Collaborative Lookdev\n",
    "Procedural assets from Houdini → live in Omniverse.\n",
    "AI suggests lighting setups, texture stylization.\n",
    "Director tweaks cameras in Unreal → updates propagate to Houdini & Blender.\n",
    "Omniverse Crowd Simulation with AI Agents\n",
    "RL-trained agents control crowd behavior.\n",
    "AI clusters agent groups (aggressive/neutral/passive).\n",
    "Synced across Unity for game prototype + Unreal for cinematic previs.\n",
    "\n"
   ]
  }
 ],
 "metadata": {
  "language_info": {
   "name": "python"
  }
 },
 "nbformat": 4,
 "nbformat_minor": 5
}
