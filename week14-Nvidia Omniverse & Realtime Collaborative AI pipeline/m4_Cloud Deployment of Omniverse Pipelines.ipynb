{
 "cells": [
  {
   "cell_type": "markdown",
   "id": "86f21799",
   "metadata": {},
   "source": [
    "### Module 4: Cloud Deployment of Omniverse Pipelines\n",
    "Concepts\n",
    "Omniverse Farm + Kubernetes/Ray for distributed AI tasks.\n",
    "Scaling ML training/inference for studio pipelines.\n",
    "Streaming Omniverse scenes to remote clients (CloudXR).\n",
    "Applications for TA\n",
    "Run large-scale crowd AI simulations on cloud clusters, stream results live.\n",
    "Distribute AI texture generation tasks across farm.\n",
    "Real-time collaborative lighting/lookdev sessions streamed to remote teams.\n",
    "Hands-on\n",
    "Deploy a procedural scene with AI QC to Omniverse Farm.\n",
    "Connect multiple DCCs remotely to a single USD stage via Nucleus.\n",
    "Experiment with CloudXR streaming of Omniverse scenes.\n"
   ]
  }
 ],
 "metadata": {
  "language_info": {
   "name": "python"
  }
 },
 "nbformat": 4,
 "nbformat_minor": 5
}
