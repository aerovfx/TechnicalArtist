{
 "cells": [
  {
   "cell_type": "markdown",
   "id": "dc8f6c7a",
   "metadata": {},
   "source": [
    "### Exercises & Labs\n",
    "Sync Houdini asset → edit materials in Blender → preview in Unreal, all via Omniverse.\n",
    "Generate facial animation with Audio2Face and retarget it in Unity.\n",
    "Run an AI QC tool inside Omniverse to check geometry + materials.\n",
    "Deploy a distributed texture generation job via Omniverse Farm.\n"
   ]
  }
 ],
 "metadata": {
  "language_info": {
   "name": "python"
  }
 },
 "nbformat": 4,
 "nbformat_minor": 5
}
