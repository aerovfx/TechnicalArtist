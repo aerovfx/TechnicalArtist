{
 "cells": [
  {
   "cell_type": "markdown",
   "id": "96c41992",
   "metadata": {},
   "source": [
    "### Module 1: Introduction to LLMs\n",
    "Concepts\n",
    "What are Large Language Models (LLMs)?\n",
    "Training data, tokenization, context windows\n",
    "Comparison: GPT, LLaMA, Falcon, Mistral\n",
    "Applications for Technical Artists\n",
    "Code generation & debugging\n",
    "Auto-documentation of pipeline tools\n",
    "Conversational assistants for Houdini/Unity\n",
    "Hands-on\n",
    "Query an open-source LLM (Hugging Face model)\n",
    "Compare answers vs GPT-based assistant\n"
   ]
  }
 ],
 "metadata": {
  "language_info": {
   "name": "python"
  }
 },
 "nbformat": 4,
 "nbformat_minor": 5
}
