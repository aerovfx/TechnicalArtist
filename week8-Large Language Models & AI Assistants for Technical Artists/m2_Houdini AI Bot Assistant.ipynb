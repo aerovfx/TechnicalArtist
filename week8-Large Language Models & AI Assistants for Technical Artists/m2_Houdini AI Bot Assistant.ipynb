{
 "cells": [
  {
   "cell_type": "markdown",
   "id": "a8814543",
   "metadata": {},
   "source": [
    "### Module 2: Houdini AI Bot Assistant\n",
    "Concepts\n",
    "Embedding AI inside DCCs (Houdini Python panels, shelf tools)\n",
    "Local vs API-based LLM calls\n",
    "Applications\n",
    "AI assistant that explains nodes, VEX snippets, or pipeline setup\n",
    "Contextual help: “What does this node do?” or “Generate VEX snippet for X”\n",
    "Hands-on\n",
    "Build a Houdini Python panel that connects to an LLM\n",
    "Ask the bot to generate a VEX wrangle snippet for attribute manipulation\n"
   ]
  }
 ],
 "metadata": {
  "language_info": {
   "name": "python"
  }
 },
 "nbformat": 4,
 "nbformat_minor": 5
}
