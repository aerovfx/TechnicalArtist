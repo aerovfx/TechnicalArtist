{
 "cells": [
  {
   "cell_type": "markdown",
   "id": "e86b7304",
   "metadata": {},
   "source": [
    "### Module 7: Synthetic Data\n",
    "Concepts\n",
    "Why generate synthetic data (privacy, augmentation, rare cases)\n",
    "Text → synthetic QA pairs for fine-tuning\n",
    "Procedural asset pipelines for training AI\n",
    "Applications\n",
    "Generate extra training data for animation ML models\n",
    "Use Houdini to procedurally generate “synthetic” labeled geometry\n",
    "Hands-on\n",
    "Generate synthetic Q/A dataset for LLM fine-tuning\n",
    "Procedurally generate 3D assets with metadata → training set for AI\n"
   ]
  }
 ],
 "metadata": {
  "language_info": {
   "name": "python"
  }
 },
 "nbformat": 4,
 "nbformat_minor": 5
}
