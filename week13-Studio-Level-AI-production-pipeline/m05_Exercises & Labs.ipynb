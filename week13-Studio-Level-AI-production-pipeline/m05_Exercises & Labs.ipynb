{
 "cells": [
  {
   "cell_type": "markdown",
   "id": "d51e34e5",
   "metadata": {},
   "source": [
    "### Exercises & Labs\n",
    "Export a Houdini procedural asset as USD and tag it with AI.\n",
    "Validate USD scene with AI QC (normals, materials, naming).\n",
    "Import USD into Unreal/Unity with consistent materials.\n",
    "Build a small LLM USD assistant: query asset count, missing textures, or LOD variants.\n",
    "\n"
   ]
  }
 ],
 "metadata": {
  "language_info": {
   "name": "python"
  }
 },
 "nbformat": 4,
 "nbformat_minor": 5
}
