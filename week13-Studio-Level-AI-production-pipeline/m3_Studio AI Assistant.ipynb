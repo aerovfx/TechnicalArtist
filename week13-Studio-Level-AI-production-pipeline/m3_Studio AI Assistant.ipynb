{
 "cells": [
  {
   "cell_type": "markdown",
   "id": "e34c5c8a",
   "metadata": {},
   "source": [
    "### Module 3: Studio AI Assistant\n",
    "(giữ nguyên: Jira, Shotgun, Perforce integration – có thể thêm AI bot đọc metadata từ USD scene)\n",
    "Extra Application\n",
    "LLM bot that queries USD scene graph → answers “What assets are in this shot?”, “Which lights are missing HDRIs?”, etc.\n",
    "Auto-generate USD metadata documentation.\n"
   ]
  }
 ],
 "metadata": {
  "language_info": {
   "name": "python"
  }
 },
 "nbformat": 4,
 "nbformat_minor": 5
}
