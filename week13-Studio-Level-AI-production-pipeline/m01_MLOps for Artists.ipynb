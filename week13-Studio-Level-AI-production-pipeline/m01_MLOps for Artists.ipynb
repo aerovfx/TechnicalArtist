{
 "cells": [
  {
   "cell_type": "markdown",
   "id": "b306ce35",
   "metadata": {},
   "source": [
    "### Module 1: MLOps for Artists\n",
    "(giữ nguyên như đã viết: versioning models, datasets, experiment tracking)\n",
    "\n"
   ]
  }
 ],
 "metadata": {
  "language_info": {
   "name": "python"
  }
 },
 "nbformat": 4,
 "nbformat_minor": 5
}
