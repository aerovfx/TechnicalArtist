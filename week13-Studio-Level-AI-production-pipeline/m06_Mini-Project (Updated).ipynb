{
 "cells": [
  {
   "cell_type": "markdown",
   "id": "90bd6b0b",
   "metadata": {},
   "source": [
    "### Week 13 Mini-Project (Updated)\n",
    "🎯 “Studio AI + USD Pipeline Prototype”\n",
    "Build an end-to-end AI-enhanced USD pipeline:\n",
    "Generate asset (Houdini) → export USD.\n",
    "AI QC tool validates geometry & metadata.\n",
    "Import USD into Unity/Unreal → consistent lookdev.\n",
    "AI assistant queries scene structure from USD.\n",
    "Deliverables:\n",
    "Working prototype with USD at the core.\n",
    "Documentation of how AI enhances USD workflows.\n",
    "Short demo: “Artist generates asset → AI QC → Studio imports asset.”\n",
    "\n",
    "👉 Với USD, học viên sẽ hiểu được:\n",
    "Vì sao USD là xương sống của pipeline hiện đại (Pixar, Apple, NVIDIA Omniverse).\n",
    "Cách AI có thể đọc/ghi/truy xuất metadata USD để QC, clustering, lookdev.\n",
    "Làm sao xây dựng một cross-DCC pipeline ổn định, chuẩn studio thay vì chỉ là prototype."
   ]
  }
 ],
 "metadata": {
  "language_info": {
   "name": "python"
  }
 },
 "nbformat": 4,
 "nbformat_minor": 5
}
