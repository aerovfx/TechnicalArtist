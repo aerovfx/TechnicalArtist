{
 "cells": [
  {
   "cell_type": "markdown",
   "id": "1ed3b49a",
   "metadata": {},
   "source": [
    "### Module 6: Data Ingestion in Houdini\n",
    "\n",
    "- **Re-importing AI/ML Data**\n",
    "- **Load ML predictions (JSON/CSV) into Houdini attributes**\n",
    "- **Apply predicted attributes to geometry**\n",
    "    - Example: Predicted animation curves → blendshape values\n",
    "- **Reconstruct geometry or procedural patterns from AI-generated rules**\n",
    "- **Case Study**\n",
    "    - Train ML model to cluster debris shapes\n",
    "    - Import cluster IDs into Houdini\n",
    "    - Drive procedural texturing\n"
   ]
  }
 ],
 "metadata": {
  "language_info": {
   "name": "python"
  }
 },
 "nbformat": 4,
 "nbformat_minor": 5
}
