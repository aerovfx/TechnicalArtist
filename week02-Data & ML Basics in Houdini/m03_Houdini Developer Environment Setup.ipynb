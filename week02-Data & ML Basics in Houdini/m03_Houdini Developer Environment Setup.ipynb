{
 "cells": [
  {
   "cell_type": "markdown",
   "id": "b98e14a0",
   "metadata": {},
   "source": [
    "### Module 3: Houdini Developer Environment Setup\n",
    "\n",
    "- **Python in Houdini**\n",
    "- **Where to write:** \n",
    "    - Python SOPs\n",
    "    - Shelf tools\n",
    "    - HDAs\n",
    "- **Linking external Python libraries:** \n",
    "    - Pandas\n",
    "    - Scikit-learn\n",
    "- **Setting up virtual environments for Houdini:** \n",
    "    - Making sure Numpy/PyTorch work\n",
    "- **Debugging & Development Workflow**\n",
    "- **Houdini console logging**\n",
    "- **Using an external IDE:** \n",
    "    - PyCharm\n",
    "    - VSCode (linked to Houdini session)\n",
    "- **Git integration for HDAs**\n"
   ]
  }
 ],
 "metadata": {
  "language_info": {
   "name": "python"
  }
 },
 "nbformat": 4,
 "nbformat_minor": 5
}
