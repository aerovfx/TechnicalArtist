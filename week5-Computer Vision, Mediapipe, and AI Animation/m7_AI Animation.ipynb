{
 "cells": [
  {
   "cell_type": "markdown",
   "id": "3d7522af",
   "metadata": {},
   "source": [
    "### Module 7: AI Animation\n",
    "Concepts\n",
    "From CV → animation curves\n",
    "AI-driven retargeting (different skeletons, rigs)\n",
    "Generating secondary motion (adding realism automatically)\n",
    "Applications\n",
    "AI-based mocap for indie games\n",
    "Quick previz for VFX using webcam footage\n",
    "Hands-on\n",
    "Capture Mediapipe pose data → retarget onto a Houdini rig\n",
    "Generate keyframes procedurally\n"
   ]
  }
 ],
 "metadata": {
  "language_info": {
   "name": "python"
  }
 },
 "nbformat": 4,
 "nbformat_minor": 5
}
