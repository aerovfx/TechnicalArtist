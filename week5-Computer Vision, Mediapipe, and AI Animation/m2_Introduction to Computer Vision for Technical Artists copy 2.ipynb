{
 "cells": [
  {
   "cell_type": "markdown",
   "id": "cdd9d98a",
   "metadata": {},
   "source": [
    "### Module 2: Introduction to Computer Vision for Technical Artists\n",
    "Core Concepts\n",
    "Images as arrays (pixels, channels)\n",
    "Preprocessing: resizing, normalization, augmentation\n",
    "Feature extraction (edges, keypoints, segmentation)\n",
    "Applications in TA workflow\n",
    "Masking textures from renders\n",
    "Extracting silhouettes for animation reference\n",
    "Tracking objects in a shot for VFX compositing\n",
    "Hands-on\n",
    "Use OpenCV to detect edges in a Houdini render\n",
    "Extract silhouettes of moving particles\n"
   ]
  }
 ],
 "metadata": {
  "language_info": {
   "name": "python"
  }
 },
 "nbformat": 4,
 "nbformat_minor": 5
}
