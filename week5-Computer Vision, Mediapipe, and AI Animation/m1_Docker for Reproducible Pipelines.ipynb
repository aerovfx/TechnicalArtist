{
 "cells": [
  {
   "cell_type": "markdown",
   "id": "0166e34e",
   "metadata": {},
   "source": [
    "### Module 1: Docker for Reproducible Pipelines\n",
    "Why Docker?\n",
    "Consistent environments across machines (artists, TDs, render farm)\n",
    "Encapsulating ML dependencies (PyTorch, TensorFlow, OpenCV)\n",
    "Basics\n",
    "Dockerfiles, Images, Containers, Volumes\n",
    "Mapping project directories (datasets, Houdini outputs)\n",
    "Hands-on\n",
    "Build a Docker container for a PyTorch + Mediapipe workflow\n",
    "Run inference inside Houdini via containerized environment\n"
   ]
  }
 ],
 "metadata": {
  "language_info": {
   "name": "python"
  }
 },
 "nbformat": 4,
 "nbformat_minor": 5
}
