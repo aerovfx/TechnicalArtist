{
 "cells": [
  {
   "cell_type": "markdown",
   "id": "cdd9d98a",
   "metadata": {},
   "source": [
    "### Module 3: Mediapipe Introduction\n",
    "What is Mediapipe?\n",
    "Google’s framework for real-time CV pipelines\n",
    "Prebuilt solutions: hand tracking, facemesh, pose estimation, object detection\n",
    "Why Mediapipe for Technical Artists?\n",
    "Lightweight, real-time → perfect for prototyping motion capture and animation tools\n",
    "Easy integration with Houdini & Unity via Python\n",
    "Hands-on\n",
    "Install Mediapipe\n",
    "Run first hand/pose detection on webcam feed\n"
   ]
  }
 ],
 "metadata": {
  "language_info": {
   "name": "python"
  }
 },
 "nbformat": 4,
 "nbformat_minor": 5
}
