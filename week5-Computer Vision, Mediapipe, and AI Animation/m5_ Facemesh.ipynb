{
 "cells": [
  {
   "cell_type": "markdown",
   "id": "cdd9d98a",
   "metadata": {},
   "source": [
    "### Module 5: Facemesh\n",
    "Concept\n",
    "Mediapipe’s 468 3D facial landmarks\n",
    "Face geometry reconstruction (blendshape input for rigs)\n",
    "Application in VFX/Game\n",
    "Drive blendshape rigs in Houdini or Unity\n",
    "Facial QC → detect if character rig matches captured landmarks\n",
    "Hands-on\n",
    "Capture webcam face data\n",
    "Map Mediapipe landmarks to Houdini facial rig controllers\n"
   ]
  }
 ],
 "metadata": {
  "language_info": {
   "name": "python"
  }
 },
 "nbformat": 4,
 "nbformat_minor": 5
}
