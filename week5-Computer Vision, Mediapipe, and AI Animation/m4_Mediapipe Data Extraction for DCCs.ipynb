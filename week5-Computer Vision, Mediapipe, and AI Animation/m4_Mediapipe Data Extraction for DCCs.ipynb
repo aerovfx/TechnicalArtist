{
 "cells": [
  {
   "cell_type": "markdown",
   "id": "aa9b3b05",
   "metadata": {},
   "source": [
    "### Module 4: Mediapipe Data Extraction for DCCs\n",
    "Extracting Motion Data\n",
    "Pose landmarks (x, y, z, visibility)\n",
    "Face landmarks (468 points in facemesh)\n",
    "Hand landmarks (21 joints)\n",
    "Exporting Data\n",
    "Convert Mediapipe output → JSON/CSV\n",
    "Normalize and retarget to DCC-friendly coordinate systems\n",
    "Hands-on\n",
    "Capture body pose with Mediapipe\n",
    "Export as JSON → import into Houdini → visualize skeleton as points\n"
   ]
  }
 ],
 "metadata": {
  "language_info": {
   "name": "python"
  }
 },
 "nbformat": 4,
 "nbformat_minor": 5
}
