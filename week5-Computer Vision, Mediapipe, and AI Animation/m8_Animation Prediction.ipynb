{
 "cells": [
  {
   "cell_type": "markdown",
   "id": "c3ee28b1",
   "metadata": {},
   "source": [
    "### Module 8: Animation Prediction\n",
    "Beyond Detection → Prediction\n",
    "Using ML to forecast next frames of animation (anticipation, smoothing)\n",
    "Techniques\n",
    "Sequence models (RNN, LSTM, Transformers for motion)\n",
    "Predict next pose frames → reduce jitter in mocap data\n",
    "Hands-on\n",
    "Train a small LSTM model on Mediapipe pose sequences\n",
    "Predict & smooth animation curves for a Houdini character\n"
   ]
  }
 ],
 "metadata": {
  "language_info": {
   "name": "python"
  }
 },
 "nbformat": 4,
 "nbformat_minor": 5
}
