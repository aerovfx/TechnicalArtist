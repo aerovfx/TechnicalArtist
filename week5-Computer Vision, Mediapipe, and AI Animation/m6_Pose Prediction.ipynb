{
 "cells": [
  {
   "cell_type": "markdown",
   "id": "cdd9d98a",
   "metadata": {},
   "source": [
    "### Module 6: Pose Prediction\n",
    "Pose Estimation Basics\n",
    "33 body landmarks (skeleton joints)\n",
    "Applications: motion capture replacement, crowd sims, animation reference\n",
    "Pose Prediction Models\n",
    "Mediapipe Pose → lightweight\n",
    "Alternatives: OpenPose, MoveNet (for comparison)\n",
    "Hands-on\n",
    "Extract pose landmarks from video\n",
    "Import JSON into Houdini → animate skeleton rig\n"
   ]
  }
 ],
 "metadata": {
  "language_info": {
   "name": "python"
  }
 },
 "nbformat": 4,
 "nbformat_minor": 5
}
