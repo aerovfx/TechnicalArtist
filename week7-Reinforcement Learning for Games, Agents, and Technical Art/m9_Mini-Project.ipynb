{
 "cells": [
  {
   "cell_type": "markdown",
   "id": "d690455e",
   "metadata": {},
   "source": [
    "### Week 7 Mini-Project\n",
    "🎯 “RL Agent in Game or Houdini Environment”\n",
    "Choose environment: retro game, Unity level, or Houdini sim.\n",
    "Define custom reward function (ex: reach goal, survive, collect items).\n",
    "Train RL agent using Gym/ML-Agents.\n",
    "Export agent behavior → integrate into Unity NPC or Houdini crowd sim.\n",
    "Present how reward shaping affects agent’s final behavior.\n",
    "\n",
    "👉 By the end of Week 7, students will:\n",
    "Understand core RL concepts and OpenAI Gym.\n",
    "Train agents on classic RL problems (CartPole, Acrobot).\n",
    "Apply RL to retro games & Unity ML-Agents.\n",
    "Use Houdini as a procedural RL playground.\n",
    "Design custom AI agents for gameplay & simulation."
   ]
  }
 ],
 "metadata": {
  "language_info": {
   "name": "python"
  }
 },
 "nbformat": 4,
 "nbformat_minor": 5
}
