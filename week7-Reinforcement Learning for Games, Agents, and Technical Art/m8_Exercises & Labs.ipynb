{
 "cells": [
  {
   "cell_type": "markdown",
   "id": "f535de8b",
   "metadata": {},
   "source": [
    "### Exercises & Labs\n",
    "Train agent on CartPole and log results with TensorBoard.\n",
    "Train agent on Acrobot and compare learning vs baseline random policy.\n",
    "Make RL agent play a retro game (Sonic/Mario).\n",
    "Build a custom Unity ML-Agents environment for AI training.\n",
    "Use Houdini simulation as RL environment and visualize agent learning."
   ]
  }
 ],
 "metadata": {
  "language_info": {
   "name": "python"
  }
 },
 "nbformat": 4,
 "nbformat_minor": 5
}
