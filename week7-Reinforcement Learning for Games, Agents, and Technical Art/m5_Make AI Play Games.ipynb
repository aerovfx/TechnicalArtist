{
 "cells": [
  {
   "cell_type": "markdown",
   "id": "046f6ac5",
   "metadata": {},
   "source": [
    "### Module 5: Make AI Play Games\n",
    "Expanding Scope\n",
    "RL agents vs scripted agents\n",
    "Transfer learning from one game to another\n",
    "Applications in Game Dev\n",
    "Procedural AI NPC behaviors\n",
    "Adaptive difficulty (AI that learns player style)\n",
    "Hands-on\n",
    "Train agent in custom Unity game (via ML-Agents)\n",
    "Adjust reward functions → different agent personalities\n"
   ]
  }
 ],
 "metadata": {
  "language_info": {
   "name": "python"
  }
 },
 "nbformat": 4,
 "nbformat_minor": 5
}
