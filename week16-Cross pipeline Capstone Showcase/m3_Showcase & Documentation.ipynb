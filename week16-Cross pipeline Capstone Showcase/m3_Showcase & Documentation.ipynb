{
 "cells": [
  {
   "cell_type": "markdown",
   "id": "9f51f844",
   "metadata": {},
   "source": [
    "### Module 3: Showcase & Documentation\n",
    "Deliverables:\n",
    "Working demo (video + live tool if possible).\n",
    "Written Capstone Report (Abstract → Tools → Method → Results → Lessons Learned).\n",
    "GitHub repo or packaged HDA/Unity scene.\n",
    "Presentation:\n",
    "10–15 min live or recorded demo.\n",
    "Highlight: problem → solution → AI integration → production value."
   ]
  }
 ],
 "metadata": {
  "language_info": {
   "name": "python"
  }
 },
 "nbformat": 4,
 "nbformat_minor": 5
}
