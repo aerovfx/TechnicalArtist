{
 "cells": [
  {
   "cell_type": "markdown",
   "id": "f8d245af",
   "metadata": {},
   "source": [
    "### Goal\n",
    "Consolidate toàn bộ kỹ năng AI/ML → từ data → model → deployment → integration.\n",
    "Học viên thực hiện project cá nhân hoặc nhóm mang tính “mini production case” như trong studio.\n",
    "Showcase được một pipeline hoàn chỉnh chạy được trong Houdini/Unity/Unreal + web API + AI integration."
   ]
  },
  {
   "cell_type": "markdown",
   "id": "62d71d50",
   "metadata": {},
   "source": [
    "### Day 1 – Kickoff & Project Scoping\n",
    "Morning:\n",
    "Recap toàn bộ 15 tuần.\n",
    "Giới thiệu rubric chấm điểm (technical, creativity, integration, presentation).\n",
    "Afternoon:\n",
    "Học viên brainstorm ý tưởng project (asset gen, animation, rendering, pipeline).\n",
    "Viết 1-page proposal: goal, dataset, tools (Houdini, Unity, Unreal, FastAPI, USD…).\n",
    "Mentor review & approve scope.\n"
   ]
  },
  {
   "cell_type": "markdown",
   "id": "72b01515",
   "metadata": {},
   "source": [
    "### Day 2 – Data & Pipeline Setup\n",
    "Chuẩn bị dataset (textures, mocap, sims, renders…).\n",
    "Tạo repo GitHub hoặc shared storage (Blob/Drive).\n",
    "Setup base pipeline (FastAPI service, Houdini HDA template, Unity/Unreal scene).\n",
    "Kết thúc ngày: phải có working skeleton pipeline."
   ]
  },
  {
   "cell_type": "markdown",
   "id": "1810046d",
   "metadata": {},
   "source": [
    "### Day 3–4 – Implementation Sprint\n",
    "Model Work: train/fine-tune AI model (clustering, diffusion, RL, LLM…).\n",
    "Pipeline Integration: connect model → Houdini/Unity/Unreal.\n",
    "Iteration: test + fix bugs.\n",
    "Daily 15-min standup check-in (như agile sprint)."
   ]
  },
  {
   "cell_type": "markdown",
   "id": "a874c26f",
   "metadata": {},
   "source": [
    "### Day 5 – Polish & QA\n",
    "Optimize performance (cache handling, inference speed).\n",
    "Add creative/artistic polish (UI, visualization, stylization).\n",
    "Prepare final datasets, renders, demo scenes.\n",
    "Dry-run demo (internal test).\n"
   ]
  },
  {
   "cell_type": "markdown",
   "id": "387c0011",
   "metadata": {},
   "source": [
    "### Day 6 – Showcase & Demo Day\n",
    "Morning:\n",
    "Each team/individual presents (10–15 min).\n",
    "Live demo or pre-recorded video.\n",
    "Afternoon:\n",
    "Q&A with mentors + peers.\n",
    "Peer review & feedback.\n"
   ]
  },
  {
   "cell_type": "markdown",
   "id": "892a7f82",
   "metadata": {},
   "source": [
    "### Day 7 – Reflection & Documentation\n",
    "Submit Capstone Report (Abstract – Tools – Method – Results – Demo – Lessons Learned).\n",
    "Group discussion: “What worked? What failed? What can be improved in a real studio pipeline?”\n",
    "Mentor wraps up: key takeaways, next steps for integrating into professional reel/portfolio.\n"
   ]
  },
  {
   "cell_type": "markdown",
   "id": "8147e03b",
   "metadata": {},
   "source": [
    "### Deliverables by End of Week 16\n",
    "Demo video (2–5 min) – final showcase.\n",
    "Capstone Report – lightweight academic style.\n",
    "Working Prototype – HDA/Unity/Unreal scene/API.\n",
    "Repo or Package – code + instructions.\n",
    "\n",
    "👉 Với timeline này, Week 16 giống hệt một mini-studio sprint, học viên vừa học cách làm production AI pipeline, vừa tập quy trình team-based delivery."
   ]
  }
 ],
 "metadata": {
  "language_info": {
   "name": "python"
  }
 },
 "nbformat": 4,
 "nbformat_minor": 5
}
