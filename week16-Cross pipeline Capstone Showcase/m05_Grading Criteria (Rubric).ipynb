{
 "cells": [
  {
   "cell_type": "markdown",
   "id": "57ae8ae1",
   "metadata": {},
   "source": [
    "### Grading Criteria (Rubric)\n",
    "Category\n",
    "Weight\n",
    "Description\n",
    "Technical Implementation\n",
    "40%\n",
    "Code quality, model integration, Houdini/Unity/Unreal pipeline setup.\n",
    "Creativity & Originality\n",
    "20%\n",
    "Innovative use of AI in TA workflows, artistic/technical novelty.\n",
    "Pipeline Integration\n",
    "25%\n",
    "End-to-end connection: data → model → deploy → use in DCC/engine.\n",
    "Presentation & Documentation\n",
    "15%\n",
    "Clear demo, readable report, well-structured explanation.\n",
    "\n"
   ]
  }
 ],
 "metadata": {
  "language_info": {
   "name": "python"
  }
 },
 "nbformat": 4,
 "nbformat_minor": 5
}
