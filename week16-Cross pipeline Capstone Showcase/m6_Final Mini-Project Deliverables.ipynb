{
 "cells": [
  {
   "cell_type": "markdown",
   "id": "13e0ff80",
   "metadata": {},
   "source": [
    "### Final Mini-Project Deliverables\n",
    "Demo video (2–5 min): project showcase.\n",
    "Capstone report (Abstract – Tools – Method – Results – Demo – Lessons Learned).\n",
    "Working prototype: HDA, Unity/Unreal scene, or FastAPI pipeline.\n",
    "GitHub repo / ZIP with code + assets.\n",
    "\n",
    "👉 Kết thúc Week 16, học viên sẽ:\n",
    "Biết cách build một studio-level AI pipeline end-to-end.\n",
    "Có portfolio project để showcase cho VFX/Game AI workflows.\n",
    "Sẵn sàng apply AI/ML vào production pipelines thật sự trong studio."
   ]
  }
 ],
 "metadata": {
  "language_info": {
   "name": "python"
  }
 },
 "nbformat": 4,
 "nbformat_minor": 5
}
