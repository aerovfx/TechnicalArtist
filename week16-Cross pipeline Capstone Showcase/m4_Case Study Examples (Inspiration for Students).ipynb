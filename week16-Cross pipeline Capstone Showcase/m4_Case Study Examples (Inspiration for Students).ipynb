{
 "cells": [
  {
   "cell_type": "markdown",
   "id": "aa4beb14",
   "metadata": {},
   "source": [
    "### Case Study Examples (Inspiration for Students)\n",
    "Procedural Asset Classifier & Generator\n",
    "AI clusters incoming 3D assets (rock/tree/building).\n",
    "Generates new assets with diffusion → exports USD → imports to Unreal.\n",
    "AI-Driven Crowd & NPC System\n",
    "RL + clustering for crowd agents.\n",
    "LLM-based dialogue for “hero” NPCs.\n",
    "Runs real-time in Unity/Unreal with Houdini-generated agents.\n",
    "Smart Render Optimizer\n",
    "Train model to predict render times + automate render farm job allocation.\n",
    "AI denoiser + DLSS integration to cut render cost.\n",
    "Deliver a comparison: baseline vs optimized pipeline.\n"
   ]
  }
 ],
 "metadata": {
  "language_info": {
   "name": "python"
  }
 },
 "nbformat": 4,
 "nbformat_minor": 5
}
