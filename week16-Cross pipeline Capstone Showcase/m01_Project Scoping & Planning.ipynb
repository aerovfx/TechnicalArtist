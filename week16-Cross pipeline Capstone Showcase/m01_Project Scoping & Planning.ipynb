{
 "cells": [
  {
   "cell_type": "markdown",
   "id": "fe1bdfc2",
   "metadata": {},
   "source": [
    "### Module 1: Project Scoping & Planning\n",
    "Chọn hướng chính:\n",
    "AI-driven Procedural Asset Generation (diffusion, ControlNet, USD pipeline).\n",
    "AI Crowd & Animation System (RL agents, LLM-driven NPCs, multi-agent sims).\n",
    "AI Rendering & Optimization (denoising, DLSS, render farm prediction).\n",
    "Định nghĩa scope: dataset, tools, deliverable demo.\n",
    "Viết project proposal (1 trang)."
   ]
  }
 ],
 "metadata": {
  "language_info": {
   "name": "python"
  }
 },
 "nbformat": 4,
 "nbformat_minor": 5
}
