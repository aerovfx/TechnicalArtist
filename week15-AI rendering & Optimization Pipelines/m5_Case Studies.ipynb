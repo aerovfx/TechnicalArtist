{
 "cells": [
  {
   "cell_type": "markdown",
   "id": "5e4ef637",
   "metadata": {},
   "source": [
    "### Case Studies\n",
    "Neural Denoising in Production\n",
    "Houdini Mantra/Karma renders → AI denoiser cuts render cost.\n",
    "Compare ground truth vs AI result.\n",
    "DLSS in Cinematic Previs\n",
    "Unreal scene rendered in real-time with DLSS.\n",
    "Frame time reduced → used for director’s rapid iteration.\n",
    "AI Render Farm Optimizer\n",
    "Studio pipeline integrates ML to schedule jobs.\n",
    "Shortens deadline crunch by optimizing farm load.\n"
   ]
  }
 ],
 "metadata": {
  "language_info": {
   "name": "python"
  }
 },
 "nbformat": 4,
 "nbformat_minor": 5
}
