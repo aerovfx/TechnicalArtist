{
 "cells": [
  {
   "cell_type": "markdown",
   "id": "1b9b7895",
   "metadata": {},
   "source": [
    "### Module 2: AI in Real-Time Rendering\n",
    "Concepts\n",
    "DLSS 3.5, RTX Path Tracing AI.\n",
    "Real-time relighting using diffusion models.\n",
    "Neural texture compression for games.\n",
    "Applications for TA\n",
    "Optimize real-time previs scenes with DLSS.\n",
    "Auto-generate LODs + compressed textures with AI.\n",
    "Stylized real-time rendering with neural style transfer.\n",
    "Hands-on\n",
    "Implement DLSS pipeline in Unreal/Unity scene.\n",
    "Run real-time relight with Stable Diffusion control net.\n",
    "Compress textures procedurally with AI codec.\n"
   ]
  }
 ],
 "metadata": {
  "language_info": {
   "name": "python"
  }
 },
 "nbformat": 4,
 "nbformat_minor": 5
}
