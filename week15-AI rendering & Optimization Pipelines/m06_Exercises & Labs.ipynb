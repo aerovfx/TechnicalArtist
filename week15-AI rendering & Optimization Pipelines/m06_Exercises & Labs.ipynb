{
 "cells": [
  {
   "cell_type": "markdown",
   "id": "f3c47bd2",
   "metadata": {},
   "source": [
    "### Exercises & Labs\n",
    "Render noisy image in Houdini → apply AI denoiser.\n",
    "Integrate NeRF asset into Unreal pipeline.\n",
    "Use DLSS to optimize an Unreal previs sequence.\n",
    "Predict Houdini render times with regression model.\n",
    "Deploy AI-assisted render scheduler on small GPU cluster.\n"
   ]
  }
 ],
 "metadata": {
  "language_info": {
   "name": "python"
  }
 },
 "nbformat": 4,
 "nbformat_minor": 5
}
