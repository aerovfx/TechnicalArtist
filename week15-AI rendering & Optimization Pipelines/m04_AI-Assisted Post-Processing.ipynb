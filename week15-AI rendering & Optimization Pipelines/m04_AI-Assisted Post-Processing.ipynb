{
 "cells": [
  {
   "cell_type": "markdown",
   "id": "07381acb",
   "metadata": {},
   "source": [
    "### Module 4: AI-Assisted Post-Processing\n",
    "Concepts\n",
    "Generative upscaling & detail restoration.\n",
    "AI motion blur, depth-of-field, and bokeh synthesis.\n",
    "Compositing with diffusion (e.g. AI fill for missing passes).\n",
    "Applications for TA\n",
    "Enhance low-sample renders for lookdev iterations.\n",
    "AI-based background extension in previs shots.\n",
    "Auto-clean render artifacts with ML.\n",
    "Hands-on\n",
    "Upscale 720p render → 4K via AI super-resolution.\n",
    "Apply AI motion blur to raw render sequence.\n",
    "Run AI-based pass reconstruction in Nuke/Houdini COPs.\n"
   ]
  }
 ],
 "metadata": {
  "language_info": {
   "name": "python"
  }
 },
 "nbformat": 4,
 "nbformat_minor": 5
}
