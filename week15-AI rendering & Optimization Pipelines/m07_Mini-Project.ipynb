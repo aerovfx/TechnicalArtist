{
 "cells": [
  {
   "cell_type": "markdown",
   "id": "9c93bb0e",
   "metadata": {},
   "source": [
    "### Week 15 Mini-Project\n",
    "🎯 “AI-Optimized Rendering Pipeline”\n",
    "Render a Houdini/Unreal sequence with AI denoising + DLSS.\n",
    "Predict render time of shots with ML model.\n",
    "Use AI super-resolution to upscale final render.\n",
    "Present before/after optimization metrics (time, quality).\n",
    "\n",
    "👉 By the end of Week 15, học viên sẽ nắm được:\n",
    "Neural rendering & AI denoising để giảm thời gian render.\n",
    "AI tối ưu hóa real-time & cinematic renders (DLSS, NeRF, texture compression).\n",
    "ML-based render farm scheduling & pipeline integration.\n",
    "Xây dựng một studio-level AI rendering workflow kết nối từ lookdev đến final frame."
   ]
  }
 ],
 "metadata": {
  "language_info": {
   "name": "python"
  }
 },
 "nbformat": 4,
 "nbformat_minor": 5
}
