{
 "cells": [
  {
   "cell_type": "markdown",
   "id": "b4f90897",
   "metadata": {},
   "source": [
    "### Module 1: Neural Rendering Foundations\n",
    "Concepts\n",
    "Neural Radiance Fields (NeRF) & Gaussian Splatting.\n",
    "AI-driven super-resolution (DLSS, FSR).\n",
    "Path tracing with AI acceleration.\n",
    "Denoising with ML models (OptiX AI Denoiser, OIDN).\n",
    "Applications for TA\n",
    "Use AI denoiser to cut render times by 70%.\n",
    "Neural relighting for lookdev (lighting transfer).\n",
    "Integrate NeRF scans into Houdini/Unreal pipeline.\n",
    "Hands-on\n",
    "Render test scene in Houdini/Unreal with AI denoiser.\n",
    "Convert photogrammetry dataset → NeRF → import as USD.\n",
    "Compare traditional vs AI-accelerated render times.\n"
   ]
  }
 ],
 "metadata": {
  "language_info": {
   "name": "python"
  }
 },
 "nbformat": 4,
 "nbformat_minor": 5
}
