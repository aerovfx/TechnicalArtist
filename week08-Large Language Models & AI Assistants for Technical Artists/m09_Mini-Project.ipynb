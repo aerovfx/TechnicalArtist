{
 "cells": [
  {
   "cell_type": "markdown",
   "id": "8652d593",
   "metadata": {},
   "source": [
    "### Week 8 Mini-Project\n",
    "🎯 “Houdini AI Assistant for Technical Artists”\n",
    "Integrate an open-source LLM into Houdini.\n",
    "Add custom knowledge base (node docs, internal pipeline).\n",
    "Support both code generation (VEX/Python) + doc explanation.\n",
    "Test assistant on real-world TA questions:\n",
    "“Generate VEX snippet for randomizing pscale by id”\n",
    "“How do I set up RBD constraints with glue?”\n",
    "“What is the difference between attribtransfer and attribinterpolate?”\n",
    "\n",
    "👉 By the end of Week 8, students will:\n",
    "Understand LLM fundamentals & transformers.\n",
    "Fine-tune LLMs for studio-specific pipelines.\n",
    "Build Houdini-integrated AI assistants.\n",
    "Apply RAG + synthetic data for scalable training.\n",
    "Design AI bots that truly support Technical Artist workflows."
   ]
  }
 ],
 "metadata": {
  "language_info": {
   "name": "python"
  }
 },
 "nbformat": 4,
 "nbformat_minor": 5
}
