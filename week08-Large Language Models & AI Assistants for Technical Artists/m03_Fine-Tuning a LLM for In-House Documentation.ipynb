{
 "cells": [
  {
   "cell_type": "markdown",
   "id": "3c31344c",
   "metadata": {},
   "source": [
    "### Module 3: Fine-Tuning a LLM for In-House Documentation\n",
    "Why Fine-Tune?\n",
    "General LLMs don’t know internal pipeline naming conventions\n",
    "Fine-tuning with studio-specific docs = internal assistant\n",
    "Steps\n",
    "Collect training corpus (studio wiki, SOP/HDA docs, pipeline codebase)\n",
    "Preprocess into Q/A or instruction format\n",
    "Fine-tune a small model (LLaMA 7B, Falcon)\n",
    "Hands-on\n",
    "Fine-tune a small LLM with sample Houdini tool documentation\n",
    "Query the model for pipeline-specific help\n"
   ]
  }
 ],
 "metadata": {
  "language_info": {
   "name": "python"
  }
 },
 "nbformat": 4,
 "nbformat_minor": 5
}
