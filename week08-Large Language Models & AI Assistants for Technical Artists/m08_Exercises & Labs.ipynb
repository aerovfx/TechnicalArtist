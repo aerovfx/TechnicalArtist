{
 "cells": [
  {
   "cell_type": "markdown",
   "id": "3944ec7e",
   "metadata": {},
   "source": [
    "### Exercises & Labs\n",
    "Build a mini Houdini AI bot that explains nodes.\n",
    "Fine-tune a small LLM on sample in-house documentation.\n",
    "Use RAG pipeline with Houdini node docs.\n",
    "Generate synthetic dataset with Houdini for AI training.\n",
    "Create a pipeline assistant that can summarize Git commits."
   ]
  }
 ],
 "metadata": {
  "language_info": {
   "name": "python"
  }
 },
 "nbformat": 4,
 "nbformat_minor": 5
}
