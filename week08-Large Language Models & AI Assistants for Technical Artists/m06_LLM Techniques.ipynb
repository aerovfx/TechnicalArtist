{
 "cells": [
  {
   "cell_type": "markdown",
   "id": "560368db",
   "metadata": {},
   "source": [
    "### Module 6: LLM Techniques\n",
    "Prompt Engineering\n",
    "Zero-shot, few-shot, chain-of-thought prompting\n",
    "Prompt templates for Houdini/Unity tasks\n",
    "Fine-tuning vs. LoRA adapters\n",
    "When to train, when to adapt\n",
    "RAG (Retrieval-Augmented Generation)\n",
    "Hooking LLMs into external knowledge bases (docs, wikis, DBs)\n",
    "Hands-on\n",
    "Build a RAG pipeline: Houdini node docs as knowledge base\n",
    "Query: “Explain Vellum constraints setup” → AI assistant response\n"
   ]
  }
 ],
 "metadata": {
  "language_info": {
   "name": "python"
  }
 },
 "nbformat": 4,
 "nbformat_minor": 5
}
