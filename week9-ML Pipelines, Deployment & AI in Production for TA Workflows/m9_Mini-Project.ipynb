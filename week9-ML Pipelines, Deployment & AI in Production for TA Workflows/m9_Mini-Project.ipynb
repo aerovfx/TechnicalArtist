{
 "cells": [
  {
   "cell_type": "markdown",
   "id": "e3c0d8a7",
   "metadata": {},
   "source": [
    "### Week 9 Mini-Project\n",
    "🎯 “AI-Powered Multi-App Pipeline”\n",
    "Deploy a trained ML model via FastAPI.\n",
    "Store dataset/models in Blob storage.\n",
    "Query from both Houdini (Python panel) and Unity (C# script).\n",
    "Implement a clustering algorithm (e.g., AI grouping of assets or particles).\n",
    "Demonstrate end-to-end workflow: Data → Train → Deploy → Query → Visualize.\n",
    "\n",
    "👉 By the end of Week 9, students will:\n",
    "Deploy ML models with FastAPI.\n",
    "Manage large procedural datasets with Blob storage.\n",
    "Apply clustering + classical ML to Houdini/Unity workflows.\n",
    "Integrate everything into a home production-ready pipeline."
   ]
  }
 ],
 "metadata": {
  "language_info": {
   "name": "python"
  }
 },
 "nbformat": 4,
 "nbformat_minor": 5
}
