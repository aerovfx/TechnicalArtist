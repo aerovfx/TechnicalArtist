{
 "cells": [
  {
   "cell_type": "markdown",
   "id": "20add743",
   "metadata": {},
   "source": [
    "### Exercises & Labs\n",
    "Deploy a regression model with FastAPI and call it from Houdini.\n",
    "Store a procedural dataset (meshes, textures) in Blob Storage and query it in Unity.\n",
    "Cluster a Houdini particle sim using K-means.\n",
    "Train a Random Forest model on sim performance data.\n",
    "Build a Unity ML integration with clustering-based NPC groups."
   ]
  }
 ],
 "metadata": {
  "language_info": {
   "name": "python"
  }
 },
 "nbformat": 4,
 "nbformat_minor": 5
}
