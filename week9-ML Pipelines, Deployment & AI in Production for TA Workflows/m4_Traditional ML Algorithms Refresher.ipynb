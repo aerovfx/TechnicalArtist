{
 "cells": [
  {
   "cell_type": "markdown",
   "id": "c3be5cc1",
   "metadata": {},
   "source": [
    "### Module 4: Traditional ML Algorithms Refresher\n",
    "Algorithms\n",
    "Regression, Classification, SVM, Decision Trees, Random Forests\n",
    "When to use classical ML vs deep learning\n",
    "Applications for TA\n",
    "Predict sim times from cache parameters (regression)\n",
    "Auto-classify assets by tags (classification)\n",
    "AI QC for textures/materials (SVMs for defect detection)\n",
    "Hands-on\n",
    "Train Random Forest to predict sim cache time from Houdini parameters\n",
    "Build SVM to classify textures as “valid/invalid”\n"
   ]
  }
 ],
 "metadata": {
  "language_info": {
   "name": "python"
  }
 },
 "nbformat": 4,
 "nbformat_minor": 5
}
