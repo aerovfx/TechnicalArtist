{
 "cells": [
  {
   "cell_type": "markdown",
   "id": "7a3f7aeb",
   "metadata": {},
   "source": [
    "### Module 3: AI-Based Clustering Simulation\n",
    "Concepts\n",
    "Clustering algorithms: K-means, DBSCAN, Gaussian Mixture Models\n",
    "Unsupervised learning for structure discovery\n",
    "Applications for TA\n",
    "Cluster crowd agents into behavioral groups\n",
    "Segment particle sims procedurally\n",
    "Group assets automatically for LOD/optimization\n",
    "Hands-on\n",
    "Cluster point cloud data in Houdini → assign groups/colors\n",
    "Cluster NPC behaviors in Unity (aggressive vs passive vs idle)\n"
   ]
  }
 ],
 "metadata": {
  "language_info": {
   "name": "python"
  }
 },
 "nbformat": 4,
 "nbformat_minor": 5
}
