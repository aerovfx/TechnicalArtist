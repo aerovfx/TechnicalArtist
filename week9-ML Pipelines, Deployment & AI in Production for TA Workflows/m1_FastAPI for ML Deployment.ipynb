{
 "cells": [
  {
   "cell_type": "markdown",
   "id": "8fdbb5e4",
   "metadata": {},
   "source": [
    "### Module 1: FastAPI for ML Deployment\n",
    "Concepts\n",
    "Why deploy models as APIs? (collaboration across tools: Houdini, Unity, web apps)\n",
    "FastAPI vs Flask – why FastAPI is faster & async\n",
    "Applications for TA\n",
    "Deploying AI animation predictors as services\n",
    "Exposing procedural generation tools to non-coders (artists)\n",
    "Hands-on\n",
    "Build a FastAPI endpoint serving a trained ML model\n",
    "Query model from Houdini Python node or Unity C# script\n"
   ]
  }
 ],
 "metadata": {
  "language_info": {
   "name": "python"
  }
 },
 "nbformat": 4,
 "nbformat_minor": 5
}
