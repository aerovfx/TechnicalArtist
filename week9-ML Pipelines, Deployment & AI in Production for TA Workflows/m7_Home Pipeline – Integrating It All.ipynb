{
 "cells": [
  {
   "cell_type": "markdown",
   "id": "155adb39",
   "metadata": {},
   "source": [
    "### Module 7: Home Pipeline – Integrating It All\n",
    "Concepts\n",
    "End-to-end ML pipeline for TA workflows\n",
    "Connecting Houdini, Unity, FastAPI, and Blob Storage\n",
    "Applications\n",
    "Train → Deploy → Query cycle for AI models\n",
    "Local “studio AI pipeline” on your workstation\n",
    "Hands-on\n",
    "Deploy one model via FastAPI → Store data in blob storage → Query from Houdini/Unity\n",
    "Set up reproducible home ML pipeline for continuous experimentation\n"
   ]
  }
 ],
 "metadata": {
  "language_info": {
   "name": "python"
  }
 },
 "nbformat": 4,
 "nbformat_minor": 5
}
