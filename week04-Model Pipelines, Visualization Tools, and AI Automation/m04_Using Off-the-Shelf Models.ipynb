{
 "cells": [
  {
   "cell_type": "markdown",
   "id": "66aab496",
   "metadata": {},
   "source": [
    "### Module 4: Using Off-the-Shelf Models\n",
    "\n",
    "- **Why Off-the-Shelf?**\n",
    "    - Saves training time\n",
    "    - Leverage existing state-of-the-art research\n",
    "\n",
    "- **Examples**\n",
    "    - YOLO for object detection (detect props in images)\n",
    "    - CLIP for text-to-asset retrieval (“find rock assets that look like mossy boulders”)\n",
    "\n",
    "- **Hands-on**\n",
    "    - Use CLIP to query textures/assets by text description\n",
    "    - Integrate results into Houdini pipeline for auto-tagging\n"
   ]
  }
 ],
 "metadata": {
  "language_info": {
   "name": "python"
  }
 },
 "nbformat": 4,
 "nbformat_minor": 5
}
