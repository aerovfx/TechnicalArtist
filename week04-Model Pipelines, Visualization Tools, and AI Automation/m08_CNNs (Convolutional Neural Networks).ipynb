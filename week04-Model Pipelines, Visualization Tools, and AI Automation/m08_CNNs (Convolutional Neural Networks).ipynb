{
 "cells": [
  {
   "cell_type": "markdown",
   "id": "aed4a2e2",
   "metadata": {},
   "source": [
    "### Module 8: CNNs (Convolutional Neural Networks)\n",
    "\n",
    "- **Concepts**\n",
    "    - Why CNNs → best for images, textures, procedural maps\n",
    "    - Layers: convolution, pooling, fully connected\n",
    "    - Feature extraction (edges, textures, high-level shapes)\n",
    "\n",
    "- **Applications for Technical Artists**\n",
    "    - Classify textures (wood, stone, metal)\n",
    "    - Predict procedural mask maps (roughness, AO)\n",
    "    - Auto-generate style tags for assets\n",
    "\n",
    "- **Hands-on**\n",
    "    - Build a small CNN in PyTorch\n",
    "    - Train it on MNIST (or small texture dataset)\n",
    "    - Deploy inside Houdini via Python SOP\n"
   ]
  }
 ],
 "metadata": {
  "language_info": {
   "name": "python"
  }
 },
 "nbformat": 4,
 "nbformat_minor": 5
}
