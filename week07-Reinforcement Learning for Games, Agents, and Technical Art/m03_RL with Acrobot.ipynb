{
 "cells": [
  {
   "cell_type": "markdown",
   "id": "c4e4babd",
   "metadata": {},
   "source": [
    "### Module 3: RL with Acrobot\n",
    "Understanding the Problem\n",
    "Double pendulum agent (Acrobot-v1)\n",
    "Goal: swing up and balance\n",
    "Learning Algorithms\n",
    "Q-learning\n",
    "Deep Q-Networks (DQN)\n",
    "Hands-on\n",
    "Train RL agent on Acrobot environment\n",
    "Visualize learning curve with TensorBoard\n"
   ]
  }
 ],
 "metadata": {
  "language_info": {
   "name": "python"
  }
 },
 "nbformat": 4,
 "nbformat_minor": 5
}
