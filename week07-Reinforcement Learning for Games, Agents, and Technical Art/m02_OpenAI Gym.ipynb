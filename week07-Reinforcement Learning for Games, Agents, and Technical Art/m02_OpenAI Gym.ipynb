{
 "cells": [
  {
   "cell_type": "markdown",
   "id": "cb8b4846",
   "metadata": {},
   "source": [
    "### Module 2: OpenAI Gym\n",
    "What is OpenAI Gym?\n",
    "Standard environment library for RL experiments\n",
    "Environments Overview\n",
    "Classic control (CartPole, MountainCar, Acrobot)\n",
    "Atari / retro games (via Gym Retro)\n",
    "Hands-on\n",
    "Install and set up Gym\n",
    "Run your first agent in CartPole environment\n"
   ]
  }
 ],
 "metadata": {
  "language_info": {
   "name": "python"
  }
 },
 "nbformat": 4,
 "nbformat_minor": 5
}
