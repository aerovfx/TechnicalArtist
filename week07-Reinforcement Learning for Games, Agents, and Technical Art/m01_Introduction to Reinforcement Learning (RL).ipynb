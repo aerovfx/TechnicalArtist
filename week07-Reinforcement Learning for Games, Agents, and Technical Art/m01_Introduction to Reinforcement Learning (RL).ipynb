{
 "cells": [
  {
   "cell_type": "markdown",
   "id": "be256a86",
   "metadata": {},
   "source": [
    "### Module 1: Introduction to Reinforcement Learning (RL)\n",
    "Core Concepts\n",
    "Agent, Environment, State, Action, Reward\n",
    "Exploration vs Exploitation\n",
    "Markov Decision Processes (MDPs)\n",
    "Relevance for Technical Artists\n",
    "Smarter agents in games (NPCs, crowd sim, procedural animation)\n",
    "AI-driven optimization in VFX workflows\n",
    "Hands-on\n",
    "Simple RL demo: agent learning to reach a goal\n"
   ]
  }
 ],
 "metadata": {
  "language_info": {
   "name": "python"
  }
 },
 "nbformat": 4,
 "nbformat_minor": 5
}
