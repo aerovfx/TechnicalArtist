{
 "cells": [
  {
   "cell_type": "markdown",
   "id": "538e706d",
   "metadata": {},
   "source": [
    "### Module 4: Retro Games Reinforcement Learning\n",
    "Gym Retro\n",
    "Wrapping old console games (Sonic, Mario, Street Fighter)\n",
    "Why for TA?\n",
    "Great testbeds for AI animation & gameplay research\n",
    "Hands-on\n",
    "Train agent to play a retro game with DQN\n",
    "Compare reward performance across episodes\n"
   ]
  }
 ],
 "metadata": {
  "language_info": {
   "name": "python"
  }
 },
 "nbformat": 4,
 "nbformat_minor": 5
}
