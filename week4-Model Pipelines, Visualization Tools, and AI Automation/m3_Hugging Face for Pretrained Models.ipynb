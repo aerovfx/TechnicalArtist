{
 "cells": [
  {
   "cell_type": "markdown",
   "id": "a65131d2",
   "metadata": {},
   "source": [
    "### Module 3: Hugging Face for Pretrained Models\n",
    "Introduction\n",
    "Hugging Face Hub → repository of pretrained models (vision, NLP, multimodal)\n",
    "Transformers library basics\n",
    "Use Cases for Technical Artists\n",
    "Off-the-shelf image segmentation models → auto-mask textures\n",
    "Off-the-shelf style transfer models → procedural material generation\n",
    "Hands-on\n",
    "Load a Hugging Face vision model\n",
    "Apply it to Houdini-rendered images (classify textures, segment silhouettes)\n"
   ]
  }
 ],
 "metadata": {
  "language_info": {
   "name": "python"
  }
 },
 "nbformat": 4,
 "nbformat_minor": 5
}
