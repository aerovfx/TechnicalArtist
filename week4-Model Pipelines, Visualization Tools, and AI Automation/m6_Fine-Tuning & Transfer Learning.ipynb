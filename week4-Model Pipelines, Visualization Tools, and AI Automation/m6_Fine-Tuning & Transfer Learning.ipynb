{
 "cells": [
  {
   "cell_type": "markdown",
   "id": "575b6a8e",
   "metadata": {},
   "source": [
    "### Module 6: Fine-Tuning & Transfer Learning\n",
    "Theory\n",
    "Pretrained models on ImageNet, COCO → adapted to your dataset\n",
    "Benefits: lower cost, faster convergence, better generalization\n",
    "Hands-on\n",
    "Fine-tune a CNN to classify studio assets (e.g., rocks, trees, buildings)\n",
    "Transfer learning: adapt an existing image classifier to Houdini-generated images\n",
    "\n"
   ]
  }
 ],
 "metadata": {
  "language_info": {
   "name": "python"
  }
 },
 "nbformat": 4,
 "nbformat_minor": 5
}
