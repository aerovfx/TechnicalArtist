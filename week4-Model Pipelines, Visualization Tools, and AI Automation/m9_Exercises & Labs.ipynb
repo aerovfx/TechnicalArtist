{
 "cells": [
  {
   "cell_type": "markdown",
   "id": "c54edc37",
   "metadata": {},
   "source": [
    "### Exercises & Labs\n",
    "Build a Streamlit dashboard to visualize dataset stats + preview AI predictions.\n",
    "Train a CNN texture classifier, log results with TensorBoard.\n",
    "Use Hugging Face model for auto-segmentation of an image rendered from Houdini.\n",
    "Fine-tune a pretrained CNN on a small set of procedural textures.\n",
    "Implement a QC automation script → new assets automatically classified + tagged."
   ]
  }
 ],
 "metadata": {
  "language_info": {
   "name": "python"
  }
 },
 "nbformat": 4,
 "nbformat_minor": 5
}
