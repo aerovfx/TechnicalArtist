{
 "cells": [
  {
   "cell_type": "markdown",
   "id": "5395b2e1",
   "metadata": {},
   "source": [
    "### Week 4 Mini-Project\n",
    "🎯 “AI Asset Classifier & Dashboard”\n",
    "Create a pipeline that:\n",
    "Loads a pretrained model (Hugging Face / PyTorch CNN).\n",
    "Fine-tunes it on a dataset of studio assets (textures or props).\n",
    "Logs training progress in TensorBoard.\n",
    "Deploys results to a Streamlit dashboard, where assets can be uploaded and automatically classified, tagged, and previewed.\n",
    "\n",
    "👉 By the end of Week 4, students will:\n",
    "Use Streamlit and TensorBoard for AI visualization.\n",
    "Import & deploy pretrained Hugging Face models.\n",
    "Understand fine-tuning & transfer learning in production.\n",
    "Apply CNNs to texture/asset classification.\n",
    "Automate asset QC & tagging pipelines inside Houdini."
   ]
  }
 ],
 "metadata": {
  "language_info": {
   "name": "python"
  }
 },
 "nbformat": 4,
 "nbformat_minor": 5
}
