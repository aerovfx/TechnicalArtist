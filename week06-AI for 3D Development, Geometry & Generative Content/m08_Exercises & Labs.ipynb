{
 "cells": [
  {
   "cell_type": "markdown",
   "id": "31e7afa0",
   "metadata": {},
   "source": [
    "### Exercises & Labs\n",
    "Extract depth map from a still image → turn into displaced 3D plane in Houdini.\n",
    "Generate point cloud from Mediapipe pose → mesh reconstruction with Houdini tools.\n",
    "Use prompt-to-3D AI (Shap-E/DreamFusion) to create a prop.\n",
    "Generate seamless tileable textures with Stable Diffusion → export to Unity material.\n",
    "Test a Deepfake lip-sync pipeline on a short dialogue animation."
   ]
  }
 ],
 "metadata": {
  "language_info": {
   "name": "python"
  }
 },
 "nbformat": 4,
 "nbformat_minor": 5
}
