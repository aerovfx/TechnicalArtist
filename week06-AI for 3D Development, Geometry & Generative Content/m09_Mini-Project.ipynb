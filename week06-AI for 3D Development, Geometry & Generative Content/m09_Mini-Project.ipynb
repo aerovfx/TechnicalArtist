{
 "cells": [
  {
   "cell_type": "markdown",
   "id": "bf7a8ec6",
   "metadata": {},
   "source": [
    "### Week 6 Mini-Project\n",
    "🎯 “AI Generated 3D Prop with Textures”\n",
    "Input: text prompt (“ancient sci-fi artifact made of obsidian”)\n",
    "Generate 3D geometry with prompt-to-3D AI.\n",
    "Refine mesh (remeshing, smoothing) inside Houdini.\n",
    "Generate textures with Stable Diffusion (diffuse, normal, roughness).\n",
    "Import into Unity → apply rig or animation prediction if needed.\n",
    "\n",
    "👉 By the end of Week 6, students will:\n",
    "Extract depth & point cloud data from images/video.\n",
    "Reconstruct geometry meshes with Houdini.\n",
    "Generate 3D models & textures from text prompts.\n",
    "Understand Deepfake technology & apply responsibly.\n",
    "Build an AI-powered 3D asset pipeline (prompt → mesh → texture → DCC)."
   ]
  }
 ],
 "metadata": {
  "language_info": {
   "name": "python"
  }
 },
 "nbformat": 4,
 "nbformat_minor": 5
}
