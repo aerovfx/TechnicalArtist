{
 "cells": [
  {
   "cell_type": "markdown",
   "id": "9d1f35b2",
   "metadata": {},
   "source": [
    "### Module 2: Introduction to Point Clouds\n",
    "\n",
    "**What are Point Clouds?**\n",
    "- 3D data representation (XYZ + RGB/normal)\n",
    "- Generated from LiDAR, photogrammetry, depth maps\n",
    "- Applications in Game/VFX\n",
    "- Scanning environments → convert to geometry\n",
    "- Motion capture → point cloud driven rigs\n",
    "\n",
    "**Hands-on**\n",
    "- Convert Mediapipe 3D pose landmarks into a point cloud\n",
    "- Import into Houdini → visualize and mesh\n"
   ]
  }
 ],
 "metadata": {
  "language_info": {
   "name": "python"
  }
 },
 "nbformat": 4,
 "nbformat_minor": 5
}
