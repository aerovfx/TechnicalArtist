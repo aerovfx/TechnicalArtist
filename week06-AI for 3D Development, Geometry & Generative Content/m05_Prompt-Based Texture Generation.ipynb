{
 "cells": [
  {
   "cell_type": "markdown",
   "id": "d2c16fc0",
   "metadata": {},
   "source": [
    "### Module 5: Prompt-Based Texture Generation\n",
    "Concept\n",
    "AI texture synthesis (Stable Diffusion, ControlNet, Texture Diffusion)\n",
    "Seamless tileable maps (diffuse, normal, roughness)\n",
    "Applications\n",
    "Generate unique procedural textures on-demand\n",
    "Concepting materials for look-dev\n",
    "Hands-on\n",
    "Generate a tileable texture with Stable Diffusion\n",
    "Convert AI texture → PBR set (diffuse, normal, roughness) in Houdini/Unity\n",
    "\n"
   ]
  }
 ],
 "metadata": {
  "language_info": {
   "name": "python"
  }
 },
 "nbformat": 4,
 "nbformat_minor": 5
}
