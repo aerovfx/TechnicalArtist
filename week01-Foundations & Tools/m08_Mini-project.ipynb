{
 "cells": [
  {
   "cell_type": "markdown",
   "id": "5835c6f6",
   "metadata": {},
   "source": [
    "### Week 1 Mini-Project (Hands-On)\n",
    "\n",
    "- Build your Technical Artist Toolkit Repo\n",
    "- Initialize a GitHub repo\n",
    "- Write a Python tool that:\n",
    "    - Loads a point cloud (CSV or OBJ)\n",
    "    - Applies a transformation (NumPy matrix ops)\n",
    "    - Exports results into a Houdini-friendly JSON or Unity-readable format\n",
    "- Document code using SOLID principles\n",
    "- Submit repo with Git version history\n"
   ]
  }
 ],
 "metadata": {
  "language_info": {
   "name": "python"
  }
 },
 "nbformat": 4,
 "nbformat_minor": 5
}
