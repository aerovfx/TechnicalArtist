{
 "cells": [
  {
   "cell_type": "markdown",
   "id": "c9916264",
   "metadata": {},
   "source": [
    "### Module 4: Git for Technical Artists\n",
    "\n",
    "- Installing and setting up Git + GitHub\n",
    "- Branching strategies for creative pipelines (e.g., separating art tools from ML scripts)\n",
    "- Using Git LFS for large 3D files, textures, and datasets\n",
    "- Collaborating with artists/engineers on shared repositories\n",
    "- Hands-on: Push/pull a Python Houdini tool to GitHub\n"
   ]
  }
 ],
 "metadata": {
  "language_info": {
   "name": "python"
  }
 },
 "nbformat": 4,
 "nbformat_minor": 5
}
