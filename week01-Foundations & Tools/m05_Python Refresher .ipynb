{
 "cells": [
  {
   "cell_type": "markdown",
   "id": "81ac5fd3",
   "metadata": {},
   "source": [
    "### Module 5: Python Refresher (Creative Applications)\n",
    "\n",
    "- Python syntax quick recap\n",
    "- File I/O (loading 3D assets, reading textures, exporting data)\n",
    "- Functions, Classes, and OOP for tool creation\n",
    "- Modules & packages for production pipelines\n",
    "- Example: Write a Python script to rename assets in Houdini or Unity\n"
   ]
  }
 ],
 "metadata": {
  "language_info": {
   "name": "python"
  }
 },
 "nbformat": 4,
 "nbformat_minor": 5
}
