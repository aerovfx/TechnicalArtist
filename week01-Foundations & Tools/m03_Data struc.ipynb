{
 "cells": [
  {
   "cell_type": "markdown",
   "id": "d7a07eaf",
   "metadata": {},
   "source": [
    "### Module 3: Data Structures & Algorithms (Creative Lens)\n",
    "\n",
    "- **Arrays, Lists, Dictionaries, Sets**  \n",
    "    - Linked to procedural data storage in Houdini\n",
    "\n",
    "- **Graphs & Trees**  \n",
    "    - Applied to scene graphs, skeletal hierarchies, shader graphs\n",
    "\n",
    "- **Sorting & Searching algorithms**  \n",
    "    - Asset indexing, scene organization\n",
    "\n",
    "- **Hashing for asset references**  \n",
    "    - Like USD/Houdini packed primitives\n",
    "\n",
    "- **Big-O notation in real workflows**  \n",
    "    - E.g., optimizing point cloud operations\n"
   ]
  }
 ],
 "metadata": {
  "language_info": {
   "name": "python"
  }
 },
 "nbformat": 4,
 "nbformat_minor": 5
}
