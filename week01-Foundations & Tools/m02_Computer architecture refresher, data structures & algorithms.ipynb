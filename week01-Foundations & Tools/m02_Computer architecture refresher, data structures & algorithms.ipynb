{
 "cells": [
  {
   "cell_type": "markdown",
   "id": "4110a671",
   "metadata": {},
   "source": [
    "### Module 2: Computer Architecture Refresher\n",
    "(with a Technical Artist’s perspective)\n",
    "\n",
    "- How CPUs vs GPUs process data (parallelism and its role in rendering & ML)\n",
    "- Memory hierarchy (RAM, VRAM, cache) and why it matters for large textures, 3D models, and neural networks\n",
    "- Multithreading & SIMD for graphics and AI acceleration\n",
    "- Storage bottlenecks: SSD vs HDD for datasets and procedural caches\n"
   ]
  }
 ],
 "metadata": {
  "language_info": {
   "name": "python"
  }
 },
 "nbformat": 4,
 "nbformat_minor": 5
}
